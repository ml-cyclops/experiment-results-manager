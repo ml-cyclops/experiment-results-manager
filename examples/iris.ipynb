{
 "cells": [
  {
   "cell_type": "code",
   "execution_count": 1,
   "metadata": {},
   "outputs": [
    {
     "name": "stdout",
     "output_type": "stream",
     "text": [
      "Note: you may need to restart the kernel to use updated packages.\n"
     ]
    }
   ],
   "source": [
    "%pip install -qU experiment-results-manager \\\n",
    "    s3fs \\\n",
    "    gcsfs \\\n",
    "    seaborn scikit-learn"
   ]
  },
  {
   "cell_type": "code",
   "execution_count": 2,
   "metadata": {},
   "outputs": [],
   "source": [
    "import pandas as pd\n",
    "import experiment_results_manager as erm\n",
    "import pickle\n",
    "\n",
    "from experiment_results_manager.artifact import ArtifactType\n",
    "from sklearn.ensemble import RandomForestClassifier, GradientBoostingClassifier\n",
    "from sklearn.tree import DecisionTreeClassifier\n",
    "from sklearn.model_selection import train_test_split\n",
    "from sklearn.metrics import accuracy_score, precision_score, recall_score, f1_score\n",
    "from sklearn.datasets import load_iris\n",
    "from IPython.display import display, HTML"
   ]
  },
  {
   "cell_type": "code",
   "execution_count": 3,
   "metadata": {},
   "outputs": [
    {
     "data": {
      "text/html": [
       "<div>\n",
       "<style scoped>\n",
       "    .dataframe tbody tr th:only-of-type {\n",
       "        vertical-align: middle;\n",
       "    }\n",
       "\n",
       "    .dataframe tbody tr th {\n",
       "        vertical-align: top;\n",
       "    }\n",
       "\n",
       "    .dataframe thead th {\n",
       "        text-align: right;\n",
       "    }\n",
       "</style>\n",
       "<table border=\"1\" class=\"dataframe\">\n",
       "  <thead>\n",
       "    <tr style=\"text-align: right;\">\n",
       "      <th></th>\n",
       "      <th>sepal length (cm)</th>\n",
       "      <th>sepal width (cm)</th>\n",
       "      <th>petal length (cm)</th>\n",
       "      <th>petal width (cm)</th>\n",
       "      <th>target</th>\n",
       "    </tr>\n",
       "  </thead>\n",
       "  <tbody>\n",
       "    <tr>\n",
       "      <th>0</th>\n",
       "      <td>5.1</td>\n",
       "      <td>3.5</td>\n",
       "      <td>1.4</td>\n",
       "      <td>0.2</td>\n",
       "      <td>0</td>\n",
       "    </tr>\n",
       "    <tr>\n",
       "      <th>1</th>\n",
       "      <td>4.9</td>\n",
       "      <td>3.0</td>\n",
       "      <td>1.4</td>\n",
       "      <td>0.2</td>\n",
       "      <td>0</td>\n",
       "    </tr>\n",
       "    <tr>\n",
       "      <th>2</th>\n",
       "      <td>4.7</td>\n",
       "      <td>3.2</td>\n",
       "      <td>1.3</td>\n",
       "      <td>0.2</td>\n",
       "      <td>0</td>\n",
       "    </tr>\n",
       "    <tr>\n",
       "      <th>3</th>\n",
       "      <td>4.6</td>\n",
       "      <td>3.1</td>\n",
       "      <td>1.5</td>\n",
       "      <td>0.2</td>\n",
       "      <td>0</td>\n",
       "    </tr>\n",
       "    <tr>\n",
       "      <th>4</th>\n",
       "      <td>5.0</td>\n",
       "      <td>3.6</td>\n",
       "      <td>1.4</td>\n",
       "      <td>0.2</td>\n",
       "      <td>0</td>\n",
       "    </tr>\n",
       "    <tr>\n",
       "      <th>...</th>\n",
       "      <td>...</td>\n",
       "      <td>...</td>\n",
       "      <td>...</td>\n",
       "      <td>...</td>\n",
       "      <td>...</td>\n",
       "    </tr>\n",
       "    <tr>\n",
       "      <th>145</th>\n",
       "      <td>6.7</td>\n",
       "      <td>3.0</td>\n",
       "      <td>5.2</td>\n",
       "      <td>2.3</td>\n",
       "      <td>2</td>\n",
       "    </tr>\n",
       "    <tr>\n",
       "      <th>146</th>\n",
       "      <td>6.3</td>\n",
       "      <td>2.5</td>\n",
       "      <td>5.0</td>\n",
       "      <td>1.9</td>\n",
       "      <td>2</td>\n",
       "    </tr>\n",
       "    <tr>\n",
       "      <th>147</th>\n",
       "      <td>6.5</td>\n",
       "      <td>3.0</td>\n",
       "      <td>5.2</td>\n",
       "      <td>2.0</td>\n",
       "      <td>2</td>\n",
       "    </tr>\n",
       "    <tr>\n",
       "      <th>148</th>\n",
       "      <td>6.2</td>\n",
       "      <td>3.4</td>\n",
       "      <td>5.4</td>\n",
       "      <td>2.3</td>\n",
       "      <td>2</td>\n",
       "    </tr>\n",
       "    <tr>\n",
       "      <th>149</th>\n",
       "      <td>5.9</td>\n",
       "      <td>3.0</td>\n",
       "      <td>5.1</td>\n",
       "      <td>1.8</td>\n",
       "      <td>2</td>\n",
       "    </tr>\n",
       "  </tbody>\n",
       "</table>\n",
       "<p>150 rows × 5 columns</p>\n",
       "</div>"
      ],
      "text/plain": [
       "     sepal length (cm)  sepal width (cm)  petal length (cm)  petal width (cm)   \n",
       "0                  5.1               3.5                1.4               0.2  \\\n",
       "1                  4.9               3.0                1.4               0.2   \n",
       "2                  4.7               3.2                1.3               0.2   \n",
       "3                  4.6               3.1                1.5               0.2   \n",
       "4                  5.0               3.6                1.4               0.2   \n",
       "..                 ...               ...                ...               ...   \n",
       "145                6.7               3.0                5.2               2.3   \n",
       "146                6.3               2.5                5.0               1.9   \n",
       "147                6.5               3.0                5.2               2.0   \n",
       "148                6.2               3.4                5.4               2.3   \n",
       "149                5.9               3.0                5.1               1.8   \n",
       "\n",
       "     target  \n",
       "0         0  \n",
       "1         0  \n",
       "2         0  \n",
       "3         0  \n",
       "4         0  \n",
       "..      ...  \n",
       "145       2  \n",
       "146       2  \n",
       "147       2  \n",
       "148       2  \n",
       "149       2  \n",
       "\n",
       "[150 rows x 5 columns]"
      ]
     },
     "execution_count": 3,
     "metadata": {},
     "output_type": "execute_result"
    }
   ],
   "source": [
    "iris = load_iris()\n",
    "feature_names = iris.feature_names\n",
    "iris_df = pd.DataFrame(iris.data, columns=feature_names)\n",
    "iris_df['target'] = iris.target\n",
    "iris_df"
   ]
  },
  {
   "cell_type": "code",
   "execution_count": 4,
   "metadata": {},
   "outputs": [],
   "source": [
    "# Train test split\n",
    "X_train, X_test, y_train, y_test = train_test_split(\n",
    "    iris_df.drop('target', axis=1), \n",
    "    iris_df['target'],\n",
    ")\n",
    "\n",
    "# Let's try some different classifiers\n",
    "rf = RandomForestClassifier(random_state=666)\n",
    "rf.fit(X_train, y_train)\n",
    "rf_pred = rf.predict(X_test)\n",
    "\n",
    "gbt = GradientBoostingClassifier(random_state=666)\n",
    "gbt.fit(X_train, y_train)\n",
    "gbt_pred = gbt.predict(X_test)\n",
    "\n",
    "dt = DecisionTreeClassifier(max_depth = 3, random_state = 1)\n",
    "dt.fit(X_train, y_train)\n",
    "dt_pred = dt.predict(X_test)"
   ]
  },
  {
   "cell_type": "code",
   "execution_count": 5,
   "metadata": {},
   "outputs": [
    {
     "data": {
      "text/plain": [
       "<Figure size 640x480 with 0 Axes>"
      ]
     },
     "metadata": {},
     "output_type": "display_data"
    }
   ],
   "source": [
    "from matplotlib import pyplot as plt\n",
    "from numpy import mean\n",
    "from sklearn.metrics import confusion_matrix\n",
    "import seaborn as sns\n",
    "\n",
    "def evaluate_and_log_run(model, y_test, y_pred, variant_id):\n",
    "    er = erm.ExperimentRun(\n",
    "        experiment_id=\"iris\",\n",
    "        variant_id=variant_id,\n",
    "        params={\n",
    "            \"model\": type(model).__name__\n",
    "        },\n",
    "        features=feature_names,\n",
    "        metrics={\n",
    "            \"accuracy\": accuracy_score(y_test, y_pred),\n",
    "            \"precision\": precision_score(y_test, y_pred, average='weighted'),\n",
    "            \"recall\": recall_score(y_test, y_pred, average='weighted'),\n",
    "            \"f1\": f1_score(y_test, y_pred, average='weighted')\n",
    "        }\n",
    "    )\n",
    "\n",
    "    er.log_dict(\"custom_dict\", data={\n",
    "        \"avg_pred_value\": mean(y_pred)\n",
    "    })\n",
    "\n",
    "    er.log_artifact(\n",
    "        pickle.dumps(model), \n",
    "        artifact_id=\"model\", \n",
    "        filename=\"model.pickle\", \n",
    "        artifact_type=ArtifactType.BINARY)\n",
    "    \n",
    "    plt.clf()\n",
    "    fig = sns.heatmap(\n",
    "        confusion_matrix(y_test, dt_pred), \n",
    "        annot=True, \n",
    "        cmap=\"Blues\"\n",
    "    )\n",
    "    fig.set_xlabel('Predicted')\n",
    "    fig.set_ylabel('Actual')\n",
    "    fig.set_title(variant_id)\n",
    "    er.log_figure(fig, \"confusion_matrix\")\n",
    "    \n",
    "    return er\n",
    "\n",
    "er_rf = evaluate_and_log_run(rf, y_test, rf_pred, \"random_forest\")\n",
    "er_gbt = evaluate_and_log_run(gbt, y_test, gbt_pred, \"gradient_boosting\")\n",
    "er_dt = evaluate_and_log_run(dt, y_test, dt_pred, \"decision_tree\")\n",
    "plt.clf()"
   ]
  },
  {
   "cell_type": "code",
   "execution_count": 6,
   "metadata": {},
   "outputs": [
    {
     "data": {
      "text/html": [
       "<html><body><table><tr><th></th><th>Experiment id</th><th>Variant id</th><th>Run id</th><th>Timestamp (UTC)</th></tr><tr><td>Run 1</td><td>iris</td><td>random_forest</td><td>2023_04_21__16_15_26</td><td>2023-04-21 16:15:26.702013</td></tr><tr><td>Run 2</td><td>iris</td><td>gradient_boosting</td><td>2023_04_21__16_15_26</td><td>2023-04-21 16:15:26.801141</td></tr><tr><td>Run 3</td><td>iris</td><td>decision_tree</td><td>2023_04_21__16_15_26</td><td>2023-04-21 16:15:26.903982</td></tr></table><h3>Params</h3><table><tr><th></th><th>Run 1</th><th>Run 2</th><th>Run 3</th></tr><tr><td>model</td><td>RandomForestClassifier</td><td>GradientBoostingClassifier</td><td>DecisionTreeClassifier</td></tr></table><h3>Features</h3><table><tr><th></th><th>Run 1</th><th>Run 2</th><th>Run 3</th></tr><tr><td>1</td><td>sepal length (cm)</td><td>sepal length (cm)</td><td>sepal length (cm)</td></tr><tr><td>2</td><td>sepal width (cm)</td><td>sepal width (cm)</td><td>sepal width (cm)</td></tr><tr><td>3</td><td>petal length (cm)</td><td>petal length (cm)</td><td>petal length (cm)</td></tr><tr><td>4</td><td>petal width (cm)</td><td>petal width (cm)</td><td>petal width (cm)</td></tr></table><h3>Metrics</h3><table><tr><th></th><th>Run 1</th><th>Run 2</th><th>Run 3</th></tr><tr><td>accuracy</td><td>0.9210526315789473</td><td>0.9210526315789473</td><td>0.9473684210526315</td></tr><tr><td>f1</td><td>0.921129803982096</td><td>0.921129803982096</td><td>0.9473684210526315</td></tr><tr><td>precision</td><td>0.9226973684210527</td><td>0.9226973684210527</td><td>0.9535603715170279</td></tr><tr><td>recall</td><td>0.9210526315789473</td><td>0.9210526315789473</td><td>0.9473684210526315</td></tr></table><h3>custom_dict</h3><table><tr><th></th><th>Run 1</th><th>Run 2</th><th>Run 3</th></tr><tr><td>avg_pred_value</td><td>1.263157894736842</td><td>1.263157894736842</td><td>1.2894736842105263</td></tr></table><h3>Artifacts</h3><h3>confusion_matrix</h3><h4>Run 1</h4><img src=\"data:image/png;base64,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\"><h4>Run 2</h4><img src=\"data:image/png;base64,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\"><h4>Run 3</h4><img src=\"data:image/png;base64,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\"><h3>model</h3><h4>Run 1</h4><pre><code>Filename: model.pickle\n",
       "Size: 125.2 KiB</pre></code><h4>Run 2</h4><pre><code>Filename: model.pickle\n",
       "Size: 311.3 KiB</pre></code><h4>Run 3</h4><pre><code>Filename: model.pickle\n",
       "Size: 1.8 KiB</pre></code></body></html>"
      ],
      "text/plain": [
       "<IPython.core.display.HTML object>"
      ]
     },
     "metadata": {},
     "output_type": "display_data"
    }
   ],
   "source": [
    "display(HTML(erm.compare_runs(er_rf, er_gbt, er_dt)))"
   ]
  }
 ],
 "metadata": {
  "kernelspec": {
   "display_name": ".venv",
   "language": "python",
   "name": "python3"
  },
  "language_info": {
   "codemirror_mode": {
    "name": "ipython",
    "version": 3
   },
   "file_extension": ".py",
   "mimetype": "text/x-python",
   "name": "python",
   "nbconvert_exporter": "python",
   "pygments_lexer": "ipython3",
   "version": "3.9.15"
  },
  "orig_nbformat": 4
 },
 "nbformat": 4,
 "nbformat_minor": 2
}
