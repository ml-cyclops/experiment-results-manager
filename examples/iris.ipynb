{
 "cells": [
  {
   "cell_type": "code",
   "execution_count": null,
   "metadata": {},
   "outputs": [],
   "source": [
    "%pip install -qU experiment-results-manager \\\n",
    "    s3fs \\\n",
    "    gcsfs \\\n",
    "    seaborn scikit-learn"
   ]
  },
  {
   "cell_type": "code",
   "execution_count": null,
   "metadata": {},
   "outputs": [],
   "source": [
    "import pandas as pd\n",
    "import experiment_results_manager as erm\n",
    "import pickle\n",
    "\n",
    "from experiment_results_manager.artifact import ArtifactType\n",
    "from sklearn.ensemble import RandomForestClassifier, GradientBoostingClassifier\n",
    "from sklearn.tree import DecisionTreeClassifier\n",
    "from sklearn.model_selection import train_test_split\n",
    "from sklearn.metrics import accuracy_score, precision_score, recall_score, f1_score\n",
    "from sklearn.datasets import load_iris\n",
    "from IPython.display import display, HTML"
   ]
  },
  {
   "cell_type": "code",
   "execution_count": null,
   "metadata": {},
   "outputs": [],
   "source": [
    "iris = load_iris()\n",
    "feature_names = iris.feature_names\n",
    "iris_df = pd.DataFrame(iris.data, columns=feature_names)\n",
    "iris_df['target'] = iris.target\n",
    "iris_df"
   ]
  },
  {
   "cell_type": "code",
   "execution_count": null,
   "metadata": {},
   "outputs": [],
   "source": [
    "# Train test split\n",
    "X_train, X_test, y_train, y_test = train_test_split(\n",
    "    iris_df.drop('target', axis=1), \n",
    "    iris_df['target'],\n",
    ")\n",
    "\n",
    "# Let's try some different classifiers\n",
    "rf = RandomForestClassifier(random_state=666)\n",
    "rf.fit(X_train, y_train)\n",
    "rf_pred = rf.predict(X_test)\n",
    "\n",
    "gbt = GradientBoostingClassifier(random_state=666)\n",
    "gbt.fit(X_train, y_train)\n",
    "gbt_pred = gbt.predict(X_test)\n",
    "\n",
    "dt = DecisionTreeClassifier(max_depth = 3, random_state = 1)\n",
    "dt.fit(X_train, y_train)\n",
    "dt_pred = dt.predict(X_test)"
   ]
  },
  {
   "cell_type": "code",
   "execution_count": null,
   "metadata": {},
   "outputs": [],
   "source": [
    "from matplotlib import pyplot as plt\n",
    "from numpy import mean\n",
    "from sklearn.metrics import confusion_matrix\n",
    "import seaborn as sns\n",
    "\n",
    "def evaluate_and_log_run(model, y_test, y_pred, variant_id):\n",
    "    er = erm.ExperimentRun(\n",
    "        experiment_id=\"iris\",\n",
    "        variant_id=variant_id,\n",
    "        params={\n",
    "            \"model\": type(model).__name__\n",
    "        },\n",
    "        features=feature_names,\n",
    "        metrics={\n",
    "            \"accuracy\": accuracy_score(y_test, y_pred),\n",
    "            \"precision\": precision_score(y_test, y_pred, average='weighted'),\n",
    "            \"recall\": recall_score(y_test, y_pred, average='weighted'),\n",
    "            \"f1\": f1_score(y_test, y_pred, average='weighted')\n",
    "        }\n",
    "    )\n",
    "\n",
    "    er.log_dict(\"custom_dict\", data={\n",
    "        \"avg_pred_value\": mean(y_pred)\n",
    "    })\n",
    "\n",
    "    er.log_artifact(\n",
    "        pickle.dumps(model), \n",
    "        artifact_id=\"model\", \n",
    "        filename=\"model.pickle\", \n",
    "        artifact_type=ArtifactType.BINARY)\n",
    "    \n",
    "    plt.clf()\n",
    "    fig = sns.heatmap(\n",
    "        confusion_matrix(y_test, dt_pred), \n",
    "        annot=True, \n",
    "        cmap=\"Blues\"\n",
    "    )\n",
    "    fig.set_xlabel('Predicted')\n",
    "    fig.set_ylabel('Actual')\n",
    "    fig.set_title(variant_id)\n",
    "    er.log_figure(fig, \"confusion_matrix\")\n",
    "    \n",
    "    return er\n",
    "\n",
    "er_rf = evaluate_and_log_run(rf, y_test, rf_pred, \"random_forest\")\n",
    "er_gbt = evaluate_and_log_run(gbt, y_test, gbt_pred, \"gradient_boosting\")\n",
    "er_dt = evaluate_and_log_run(dt, y_test, dt_pred, \"decision_tree\")\n",
    "plt.clf()"
   ]
  },
  {
   "cell_type": "code",
   "execution_count": null,
   "metadata": {},
   "outputs": [],
   "source": [
    "display(HTML(erm.compare_runs(er_rf, er_gbt, er_dt)))"
   ]
  }
 ],
 "metadata": {
  "kernelspec": {
   "display_name": ".venv",
   "language": "python",
   "name": "python3"
  },
  "language_info": {
   "codemirror_mode": {
    "name": "ipython",
    "version": 3
   },
   "file_extension": ".py",
   "mimetype": "text/x-python",
   "name": "python",
   "nbconvert_exporter": "python",
   "pygments_lexer": "ipython3",
   "version": "3.9.15"
  },
  "orig_nbformat": 4
 },
 "nbformat": 4,
 "nbformat_minor": 2
}
