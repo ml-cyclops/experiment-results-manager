{
 "cells": [
  {
   "cell_type": "code",
   "execution_count": 1,
   "metadata": {},
   "outputs": [
    {
     "name": "stdout",
     "output_type": "stream",
     "text": [
      "Note: you may need to restart the kernel to use updated packages.\n"
     ]
    }
   ],
   "source": [
    "%pip install -qU experiment-results-manager \\\n",
    "    s3fs \\\n",
    "    gcsfs \\\n",
    "    seaborn scikit-learn"
   ]
  },
  {
   "cell_type": "code",
   "execution_count": 2,
   "metadata": {
    "tags": []
   },
   "outputs": [],
   "source": [
    "import pandas as pd\n",
    "import experiment_results_manager as erm\n",
    "import pickle\n",
    "\n",
    "from experiment_results_manager.artifact import ArtifactType\n",
    "from sklearn.ensemble import RandomForestClassifier, GradientBoostingClassifier\n",
    "from sklearn.tree import DecisionTreeClassifier\n",
    "from sklearn.model_selection import train_test_split\n",
    "from sklearn.metrics import accuracy_score, precision_score, recall_score, f1_score\n",
    "from sklearn.datasets import load_iris\n",
    "from IPython.display import display, HTML"
   ]
  },
  {
   "cell_type": "code",
   "execution_count": 3,
   "metadata": {},
   "outputs": [
    {
     "data": {
      "text/html": [
       "<div>\n",
       "<style scoped>\n",
       "    .dataframe tbody tr th:only-of-type {\n",
       "        vertical-align: middle;\n",
       "    }\n",
       "\n",
       "    .dataframe tbody tr th {\n",
       "        vertical-align: top;\n",
       "    }\n",
       "\n",
       "    .dataframe thead th {\n",
       "        text-align: right;\n",
       "    }\n",
       "</style>\n",
       "<table border=\"1\" class=\"dataframe\">\n",
       "  <thead>\n",
       "    <tr style=\"text-align: right;\">\n",
       "      <th></th>\n",
       "      <th>sepal length (cm)</th>\n",
       "      <th>sepal width (cm)</th>\n",
       "      <th>petal length (cm)</th>\n",
       "      <th>petal width (cm)</th>\n",
       "      <th>target</th>\n",
       "    </tr>\n",
       "  </thead>\n",
       "  <tbody>\n",
       "    <tr>\n",
       "      <th>0</th>\n",
       "      <td>5.1</td>\n",
       "      <td>3.5</td>\n",
       "      <td>1.4</td>\n",
       "      <td>0.2</td>\n",
       "      <td>0</td>\n",
       "    </tr>\n",
       "    <tr>\n",
       "      <th>1</th>\n",
       "      <td>4.9</td>\n",
       "      <td>3.0</td>\n",
       "      <td>1.4</td>\n",
       "      <td>0.2</td>\n",
       "      <td>0</td>\n",
       "    </tr>\n",
       "    <tr>\n",
       "      <th>2</th>\n",
       "      <td>4.7</td>\n",
       "      <td>3.2</td>\n",
       "      <td>1.3</td>\n",
       "      <td>0.2</td>\n",
       "      <td>0</td>\n",
       "    </tr>\n",
       "    <tr>\n",
       "      <th>3</th>\n",
       "      <td>4.6</td>\n",
       "      <td>3.1</td>\n",
       "      <td>1.5</td>\n",
       "      <td>0.2</td>\n",
       "      <td>0</td>\n",
       "    </tr>\n",
       "    <tr>\n",
       "      <th>4</th>\n",
       "      <td>5.0</td>\n",
       "      <td>3.6</td>\n",
       "      <td>1.4</td>\n",
       "      <td>0.2</td>\n",
       "      <td>0</td>\n",
       "    </tr>\n",
       "    <tr>\n",
       "      <th>...</th>\n",
       "      <td>...</td>\n",
       "      <td>...</td>\n",
       "      <td>...</td>\n",
       "      <td>...</td>\n",
       "      <td>...</td>\n",
       "    </tr>\n",
       "    <tr>\n",
       "      <th>145</th>\n",
       "      <td>6.7</td>\n",
       "      <td>3.0</td>\n",
       "      <td>5.2</td>\n",
       "      <td>2.3</td>\n",
       "      <td>2</td>\n",
       "    </tr>\n",
       "    <tr>\n",
       "      <th>146</th>\n",
       "      <td>6.3</td>\n",
       "      <td>2.5</td>\n",
       "      <td>5.0</td>\n",
       "      <td>1.9</td>\n",
       "      <td>2</td>\n",
       "    </tr>\n",
       "    <tr>\n",
       "      <th>147</th>\n",
       "      <td>6.5</td>\n",
       "      <td>3.0</td>\n",
       "      <td>5.2</td>\n",
       "      <td>2.0</td>\n",
       "      <td>2</td>\n",
       "    </tr>\n",
       "    <tr>\n",
       "      <th>148</th>\n",
       "      <td>6.2</td>\n",
       "      <td>3.4</td>\n",
       "      <td>5.4</td>\n",
       "      <td>2.3</td>\n",
       "      <td>2</td>\n",
       "    </tr>\n",
       "    <tr>\n",
       "      <th>149</th>\n",
       "      <td>5.9</td>\n",
       "      <td>3.0</td>\n",
       "      <td>5.1</td>\n",
       "      <td>1.8</td>\n",
       "      <td>2</td>\n",
       "    </tr>\n",
       "  </tbody>\n",
       "</table>\n",
       "<p>150 rows × 5 columns</p>\n",
       "</div>"
      ],
      "text/plain": [
       "     sepal length (cm)  sepal width (cm)  petal length (cm)  petal width (cm)   \n",
       "0                  5.1               3.5                1.4               0.2  \\\n",
       "1                  4.9               3.0                1.4               0.2   \n",
       "2                  4.7               3.2                1.3               0.2   \n",
       "3                  4.6               3.1                1.5               0.2   \n",
       "4                  5.0               3.6                1.4               0.2   \n",
       "..                 ...               ...                ...               ...   \n",
       "145                6.7               3.0                5.2               2.3   \n",
       "146                6.3               2.5                5.0               1.9   \n",
       "147                6.5               3.0                5.2               2.0   \n",
       "148                6.2               3.4                5.4               2.3   \n",
       "149                5.9               3.0                5.1               1.8   \n",
       "\n",
       "     target  \n",
       "0         0  \n",
       "1         0  \n",
       "2         0  \n",
       "3         0  \n",
       "4         0  \n",
       "..      ...  \n",
       "145       2  \n",
       "146       2  \n",
       "147       2  \n",
       "148       2  \n",
       "149       2  \n",
       "\n",
       "[150 rows x 5 columns]"
      ]
     },
     "execution_count": 3,
     "metadata": {},
     "output_type": "execute_result"
    }
   ],
   "source": [
    "iris = load_iris()\n",
    "feature_names = iris.feature_names\n",
    "iris_df = pd.DataFrame(iris.data, columns=feature_names)\n",
    "iris_df['target'] = iris.target\n",
    "iris_df"
   ]
  },
  {
   "cell_type": "code",
   "execution_count": 4,
   "metadata": {},
   "outputs": [],
   "source": [
    "# Train test split\n",
    "X_train, X_test, y_train, y_test = train_test_split(\n",
    "    iris_df.drop('target', axis=1), \n",
    "    iris_df['target'],\n",
    ")\n",
    "\n",
    "# Let's try some different classifiers\n",
    "rf = RandomForestClassifier(random_state=666)\n",
    "rf.fit(X_train, y_train)\n",
    "rf_pred = rf.predict(X_test)\n",
    "\n",
    "gbt = GradientBoostingClassifier(random_state=420)\n",
    "gbt.fit(X_train, y_train)\n",
    "gbt_pred = gbt.predict(X_test)\n",
    "\n",
    "dt = DecisionTreeClassifier(max_depth=3, random_state=69)\n",
    "dt.fit(X_train, y_train)\n",
    "dt_pred = dt.predict(X_test)"
   ]
  },
  {
   "cell_type": "code",
   "execution_count": 5,
   "metadata": {},
   "outputs": [
    {
     "data": {
      "text/plain": [
       "<Figure size 640x480 with 0 Axes>"
      ]
     },
     "metadata": {},
     "output_type": "display_data"
    }
   ],
   "source": [
    "from matplotlib import pyplot as plt\n",
    "from numpy import mean\n",
    "from sklearn.metrics import confusion_matrix\n",
    "import seaborn as sns\n",
    "\n",
    "def evaluate_and_log_run(model, y_test, y_pred, variant_id):\n",
    "    er = erm.ExperimentRun(\n",
    "        experiment_id=\"iris\",\n",
    "        variant_id=variant_id,\n",
    "        params={\n",
    "            \"model\": type(model).__name__\n",
    "        },\n",
    "        metrics={\n",
    "            \"accuracy\": accuracy_score(y_test, y_pred),\n",
    "            \"precision\": precision_score(y_test, y_pred, average='weighted'),\n",
    "            \"recall\": recall_score(y_test, y_pred, average='weighted'),\n",
    "            \"f1\": f1_score(y_test, y_pred, average='weighted')\n",
    "        }\n",
    "    )\n",
    "\n",
    "    er.log_dict(\"custom_dict\", data={\n",
    "        \"avg_pred_value\": mean(y_pred)\n",
    "    })\n",
    "\n",
    "    er.log_artifact(\n",
    "        pickle.dumps(model), \n",
    "        artifact_id=\"model\", \n",
    "        filename=\"model.pickle\")\n",
    "    \n",
    "    plt.clf()\n",
    "    fig = sns.heatmap(\n",
    "        confusion_matrix(y_test, dt_pred), \n",
    "        annot=True, \n",
    "        cmap=\"Blues\"\n",
    "    )\n",
    "    fig.set_xlabel('Predicted')\n",
    "    fig.set_ylabel('Actual')\n",
    "    fig.set_title(variant_id)\n",
    "    er.log_figure(fig, \"confusion_matrix\")\n",
    "    \n",
    "    return er\n",
    "\n",
    "er_rf = evaluate_and_log_run(rf, y_test, rf_pred, \"random_forest\")\n",
    "er_gbt = evaluate_and_log_run(gbt, y_test, gbt_pred, \"gradient_boosting\")\n",
    "er_dt = evaluate_and_log_run(dt, y_test, dt_pred, \"decision_tree\")\n",
    "plt.clf()"
   ]
  },
  {
   "cell_type": "code",
   "execution_count": 6,
   "metadata": {
    "tags": []
   },
   "outputs": [
    {
     "data": {
      "text/html": [
       "<html><body><h3>Metadata</h3><table><tr><th></th><th>Run 1</th><th>Run 2</th><th>Run 3</th></tr><tr><td>Experiment id</td><td>iris</td><td>iris</td><td>iris</td></tr><tr><td>Variant id</td><td>random_forest</td><td>gradient_boosting</td><td>decision_tree</td></tr><tr><td>Run id</td><td>2023_04_25__17_40_02</td><td>2023_04_25__17_40_02</td><td>2023_04_25__17_40_02</td></tr><tr><td>Timestamp (UTC)</td><td>2023-04-25 17:40:02</td><td>2023-04-25 17:40:02</td><td>2023-04-25 17:40:02</td></tr></table><h3>Params</h3><table><tr><th></th><th>Run 1</th><th>Run 2</th><th>Run 3</th></tr><tr><td>model</td><td>RandomForestClassifier</td><td>GradientBoostingClassifier</td><td>DecisionTreeClassifier</td></tr></table><h3>Metrics</h3><table><tr><th></th><th>Run 1</th><th>Run 2</th><th>Run 3</th></tr><tr><td>accuracy</td><td>0.9210526315789473</td><td>0.9210526315789473</td><td>0.9210526315789473</td></tr><tr><td>f1</td><td>0.9189034291718406</td><td>0.9189034291718406</td><td>0.9189034291718406</td></tr><tr><td>precision</td><td>0.9358552631578947</td><td>0.9358552631578947</td><td>0.9358552631578947</td></tr><tr><td>recall</td><td>0.9210526315789473</td><td>0.9210526315789473</td><td>0.9210526315789473</td></tr></table><h3>custom_dict</h3><table><tr><th></th><th>Run 1</th><th>Run 2</th><th>Run 3</th></tr><tr><td>avg_pred_value</td><td>0.8421052631578947</td><td>0.8421052631578947</td><td>0.8421052631578947</td></tr></table><h3>Artifacts</h3><h3>confusion_matrix</h3><h4>Run 1</h4><img src=\"data:image/png;base64,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\"><h4>Run 2</h4><img src=\"data:image/png;base64,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\"><h4>Run 3</h4><img src=\"data:image/png;base64,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\"><h3>model</h3><h4>Run 1</h4><pre><code>Filename: model.pickle\n",
       "Size: 135.9 KiB</pre></code><h4>Run 2</h4><pre><code>Filename: model.pickle\n",
       "Size: 309.2 KiB</pre></code><h4>Run 3</h4><pre><code>Filename: model.pickle\n",
       "Size: 1.9 KiB</pre></code></body></html>"
      ],
      "text/plain": [
       "<IPython.core.display.HTML object>"
      ]
     },
     "metadata": {},
     "output_type": "display_data"
    }
   ],
   "source": [
    "display(HTML(erm.compare_runs(er_rf, er_gbt, er_dt)))"
   ]
  }
 ],
 "metadata": {
  "kernelspec": {
   "display_name": "Python 3 (ipykernel)",
   "language": "python",
   "name": "python3"
  },
  "language_info": {
   "codemirror_mode": {
    "name": "ipython",
    "version": 3
   },
   "file_extension": ".py",
   "mimetype": "text/x-python",
   "name": "python",
   "nbconvert_exporter": "python",
   "pygments_lexer": "ipython3",
   "version": "3.9.15"
  }
 },
 "nbformat": 4,
 "nbformat_minor": 4
}
