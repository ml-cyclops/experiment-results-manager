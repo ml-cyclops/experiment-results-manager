{
 "cells": [
  {
   "cell_type": "code",
   "execution_count": 8,
   "metadata": {},
   "outputs": [
    {
     "name": "stdout",
     "output_type": "stream",
     "text": [
      "\n",
      "\u001b[1m[\u001b[0m\u001b[34;49mnotice\u001b[0m\u001b[1;39;49m]\u001b[0m\u001b[39;49m A new release of pip is available: \u001b[0m\u001b[31;49m23.1\u001b[0m\u001b[39;49m -> \u001b[0m\u001b[32;49m23.1.2\u001b[0m\n",
      "\u001b[1m[\u001b[0m\u001b[34;49mnotice\u001b[0m\u001b[1;39;49m]\u001b[0m\u001b[39;49m To update, run: \u001b[0m\u001b[32;49mpip install --upgrade pip\u001b[0m\n",
      "Note: you may need to restart the kernel to use updated packages.\n"
     ]
    }
   ],
   "source": [
    "%pip install -qU experiment-results-manager \\\n",
    "    s3fs \\\n",
    "    gcsfs \\\n",
    "    seaborn scikit-learn"
   ]
  },
  {
   "cell_type": "code",
   "execution_count": 9,
   "metadata": {
    "tags": []
   },
   "outputs": [],
   "source": [
    "import pandas as pd\n",
    "import experiment_results_manager as erm\n",
    "import pickle\n",
    "\n",
    "from experiment_results_manager.artifact import ArtifactType\n",
    "from sklearn.ensemble import RandomForestClassifier, GradientBoostingClassifier\n",
    "from sklearn.tree import DecisionTreeClassifier\n",
    "from sklearn.model_selection import train_test_split\n",
    "from sklearn.metrics import accuracy_score, precision_score, recall_score, f1_score\n",
    "from sklearn.datasets import load_iris\n",
    "from IPython.display import display, HTML"
   ]
  },
  {
   "cell_type": "code",
   "execution_count": 10,
   "metadata": {},
   "outputs": [
    {
     "data": {
      "text/html": [
       "<div>\n",
       "<style scoped>\n",
       "    .dataframe tbody tr th:only-of-type {\n",
       "        vertical-align: middle;\n",
       "    }\n",
       "\n",
       "    .dataframe tbody tr th {\n",
       "        vertical-align: top;\n",
       "    }\n",
       "\n",
       "    .dataframe thead th {\n",
       "        text-align: right;\n",
       "    }\n",
       "</style>\n",
       "<table border=\"1\" class=\"dataframe\">\n",
       "  <thead>\n",
       "    <tr style=\"text-align: right;\">\n",
       "      <th></th>\n",
       "      <th>sepal length (cm)</th>\n",
       "      <th>sepal width (cm)</th>\n",
       "      <th>petal length (cm)</th>\n",
       "      <th>petal width (cm)</th>\n",
       "      <th>target</th>\n",
       "    </tr>\n",
       "  </thead>\n",
       "  <tbody>\n",
       "    <tr>\n",
       "      <th>0</th>\n",
       "      <td>5.1</td>\n",
       "      <td>3.5</td>\n",
       "      <td>1.4</td>\n",
       "      <td>0.2</td>\n",
       "      <td>0</td>\n",
       "    </tr>\n",
       "    <tr>\n",
       "      <th>1</th>\n",
       "      <td>4.9</td>\n",
       "      <td>3.0</td>\n",
       "      <td>1.4</td>\n",
       "      <td>0.2</td>\n",
       "      <td>0</td>\n",
       "    </tr>\n",
       "    <tr>\n",
       "      <th>2</th>\n",
       "      <td>4.7</td>\n",
       "      <td>3.2</td>\n",
       "      <td>1.3</td>\n",
       "      <td>0.2</td>\n",
       "      <td>0</td>\n",
       "    </tr>\n",
       "    <tr>\n",
       "      <th>3</th>\n",
       "      <td>4.6</td>\n",
       "      <td>3.1</td>\n",
       "      <td>1.5</td>\n",
       "      <td>0.2</td>\n",
       "      <td>0</td>\n",
       "    </tr>\n",
       "    <tr>\n",
       "      <th>4</th>\n",
       "      <td>5.0</td>\n",
       "      <td>3.6</td>\n",
       "      <td>1.4</td>\n",
       "      <td>0.2</td>\n",
       "      <td>0</td>\n",
       "    </tr>\n",
       "    <tr>\n",
       "      <th>...</th>\n",
       "      <td>...</td>\n",
       "      <td>...</td>\n",
       "      <td>...</td>\n",
       "      <td>...</td>\n",
       "      <td>...</td>\n",
       "    </tr>\n",
       "    <tr>\n",
       "      <th>145</th>\n",
       "      <td>6.7</td>\n",
       "      <td>3.0</td>\n",
       "      <td>5.2</td>\n",
       "      <td>2.3</td>\n",
       "      <td>2</td>\n",
       "    </tr>\n",
       "    <tr>\n",
       "      <th>146</th>\n",
       "      <td>6.3</td>\n",
       "      <td>2.5</td>\n",
       "      <td>5.0</td>\n",
       "      <td>1.9</td>\n",
       "      <td>2</td>\n",
       "    </tr>\n",
       "    <tr>\n",
       "      <th>147</th>\n",
       "      <td>6.5</td>\n",
       "      <td>3.0</td>\n",
       "      <td>5.2</td>\n",
       "      <td>2.0</td>\n",
       "      <td>2</td>\n",
       "    </tr>\n",
       "    <tr>\n",
       "      <th>148</th>\n",
       "      <td>6.2</td>\n",
       "      <td>3.4</td>\n",
       "      <td>5.4</td>\n",
       "      <td>2.3</td>\n",
       "      <td>2</td>\n",
       "    </tr>\n",
       "    <tr>\n",
       "      <th>149</th>\n",
       "      <td>5.9</td>\n",
       "      <td>3.0</td>\n",
       "      <td>5.1</td>\n",
       "      <td>1.8</td>\n",
       "      <td>2</td>\n",
       "    </tr>\n",
       "  </tbody>\n",
       "</table>\n",
       "<p>150 rows × 5 columns</p>\n",
       "</div>"
      ],
      "text/plain": [
       "     sepal length (cm)  sepal width (cm)  petal length (cm)  petal width (cm)   \n",
       "0                  5.1               3.5                1.4               0.2  \\\n",
       "1                  4.9               3.0                1.4               0.2   \n",
       "2                  4.7               3.2                1.3               0.2   \n",
       "3                  4.6               3.1                1.5               0.2   \n",
       "4                  5.0               3.6                1.4               0.2   \n",
       "..                 ...               ...                ...               ...   \n",
       "145                6.7               3.0                5.2               2.3   \n",
       "146                6.3               2.5                5.0               1.9   \n",
       "147                6.5               3.0                5.2               2.0   \n",
       "148                6.2               3.4                5.4               2.3   \n",
       "149                5.9               3.0                5.1               1.8   \n",
       "\n",
       "     target  \n",
       "0         0  \n",
       "1         0  \n",
       "2         0  \n",
       "3         0  \n",
       "4         0  \n",
       "..      ...  \n",
       "145       2  \n",
       "146       2  \n",
       "147       2  \n",
       "148       2  \n",
       "149       2  \n",
       "\n",
       "[150 rows x 5 columns]"
      ]
     },
     "execution_count": 10,
     "metadata": {},
     "output_type": "execute_result"
    }
   ],
   "source": [
    "iris = load_iris()\n",
    "feature_names = iris.feature_names\n",
    "iris_df = pd.DataFrame(iris.data, columns=feature_names)\n",
    "iris_df['target'] = iris.target\n",
    "iris_df"
   ]
  },
  {
   "cell_type": "code",
   "execution_count": 11,
   "metadata": {},
   "outputs": [],
   "source": [
    "# Train test split\n",
    "X_train, X_test, y_train, y_test = train_test_split(\n",
    "    iris_df.drop('target', axis=1), \n",
    "    iris_df['target'],\n",
    ")\n",
    "\n",
    "# Let's try some different classifiers\n",
    "rf = RandomForestClassifier(random_state=666)\n",
    "rf.fit(X_train, y_train)\n",
    "rf_pred = rf.predict(X_test)\n",
    "\n",
    "gbt = GradientBoostingClassifier(random_state=420)\n",
    "gbt.fit(X_train, y_train)\n",
    "gbt_pred = gbt.predict(X_test)\n",
    "\n",
    "dt = DecisionTreeClassifier(max_depth=3, random_state=69)\n",
    "dt.fit(X_train, y_train)\n",
    "dt_pred = dt.predict(X_test)"
   ]
  },
  {
   "cell_type": "code",
   "execution_count": 12,
   "metadata": {},
   "outputs": [
    {
     "data": {
      "text/plain": [
       "<Figure size 640x480 with 0 Axes>"
      ]
     },
     "metadata": {},
     "output_type": "display_data"
    }
   ],
   "source": [
    "from matplotlib import pyplot as plt\n",
    "from numpy import mean\n",
    "from sklearn.metrics import confusion_matrix\n",
    "import seaborn as sns\n",
    "\n",
    "def evaluate_and_log_run(model, y_test, y_pred, variant_id):\n",
    "    er = erm.ExperimentRun(\n",
    "        experiment_id=\"iris\",\n",
    "        variant_id=variant_id,\n",
    "        params=model.get_params(),\n",
    "        metrics={\n",
    "            \"accuracy\": accuracy_score(y_test, y_pred),\n",
    "            \"precision\": precision_score(y_test, y_pred, average='weighted'),\n",
    "            \"recall\": recall_score(y_test, y_pred, average='weighted'),\n",
    "            \"f1\": f1_score(y_test, y_pred, average='weighted')\n",
    "        }\n",
    "    )\n",
    "\n",
    "    er.log_dict(\"custom_dict\", data={\n",
    "        \"avg_pred_value\": mean(y_pred)\n",
    "    })\n",
    "\n",
    "    er.log_artifact(\n",
    "        pickle.dumps(model), \n",
    "        artifact_id=\"model\", \n",
    "        filename=\"model.pickle\")\n",
    "    \n",
    "    plt.clf()\n",
    "    fig = sns.heatmap(\n",
    "        confusion_matrix(y_test, dt_pred), \n",
    "        annot=True, \n",
    "        cmap=\"Blues\"\n",
    "    )\n",
    "    fig.set_xlabel('Predicted')\n",
    "    fig.set_ylabel('Actual')\n",
    "    fig.set_title(variant_id)\n",
    "    er.log_figure(fig, \"confusion_matrix\")\n",
    "    \n",
    "    return er\n",
    "\n",
    "er_rf = evaluate_and_log_run(rf, y_test, rf_pred, \"random_forest\")\n",
    "er_gbt = evaluate_and_log_run(gbt, y_test, gbt_pred, \"gradient_boosting\")\n",
    "er_dt = evaluate_and_log_run(dt, y_test, dt_pred, \"decision_tree\")\n",
    "plt.clf()"
   ]
  },
  {
   "cell_type": "code",
   "execution_count": 13,
   "metadata": {
    "tags": []
   },
   "outputs": [
    {
     "data": {
      "text/html": [
       "<html><body><h3>Metadata</h3><table><tr><th></th><th>Run 1</th><th>Run 2</th><th>Run 3</th></tr><tr><td>Experiment id</td><td>iris</td><td>iris</td><td>iris</td></tr><tr><td>Run id</td><td>2023_04_28__17_35_03</td><td>2023_04_28__17_35_03</td><td>2023_04_28__17_35_03</td></tr><tr><td>Timestamp (UTC)</td><td>2023-04-28 17:35:03</td><td>2023-04-28 17:35:03</td><td>2023-04-28 17:35:03</td></tr><tr><td>Variant id</td><td>random_forest</td><td>gradient_boosting</td><td>decision_tree</td></tr></table><h3>Params</h3><table><tr><th></th><th>Run 1</th><th>Run 2</th><th>Run 3</th></tr><tr><td>bootstrap</td><td>True</td><td></td><td></td></tr><tr><td>ccp_alpha</td><td>0.0</td><td>0.0</td><td>0.0</td></tr><tr><td>class_weight</td><td>None</td><td></td><td>None</td></tr><tr><td>criterion</td><td>gini</td><td>friedman_mse</td><td>gini</td></tr><tr><td>init</td><td></td><td>None</td><td></td></tr><tr><td>learning_rate</td><td></td><td>0.1</td><td></td></tr><tr><td>loss</td><td></td><td>log_loss</td><td></td></tr><tr><td>max_depth</td><td>None</td><td>3</td><td>3</td></tr><tr><td>max_features</td><td>sqrt</td><td>None</td><td>None</td></tr><tr><td>max_leaf_nodes</td><td>None</td><td>None</td><td>None</td></tr><tr><td>max_samples</td><td>None</td><td></td><td></td></tr><tr><td>min_impurity_decrease</td><td>0.0</td><td>0.0</td><td>0.0</td></tr><tr><td>min_samples_leaf</td><td>1</td><td>1</td><td>1</td></tr><tr><td>min_samples_split</td><td>2</td><td>2</td><td>2</td></tr><tr><td>min_weight_fraction_leaf</td><td>0.0</td><td>0.0</td><td>0.0</td></tr><tr><td>n_estimators</td><td>100</td><td>100</td><td></td></tr><tr><td>n_iter_no_change</td><td></td><td>None</td><td></td></tr><tr><td>n_jobs</td><td>None</td><td></td><td></td></tr><tr><td>oob_score</td><td>False</td><td></td><td></td></tr><tr><td>random_state</td><td>666</td><td>420</td><td>69</td></tr><tr><td>splitter</td><td></td><td></td><td>best</td></tr><tr><td>subsample</td><td></td><td>1.0</td><td></td></tr><tr><td>tol</td><td></td><td>0.0001</td><td></td></tr><tr><td>validation_fraction</td><td></td><td>0.1</td><td></td></tr><tr><td>verbose</td><td>0</td><td>0</td><td></td></tr><tr><td>warm_start</td><td>False</td><td>False</td><td></td></tr></table><h3>Metrics</h3><table><tr><th></th><th>Run 1</th><th>Run 2</th><th>Run 3</th></tr><tr><td>accuracy</td><td>0.9473684210526315</td><td>0.9473684210526315</td><td>0.9473684210526315</td></tr><tr><td>f1</td><td>0.9470551378446114</td><td>0.9470551378446114</td><td>0.9470551378446114</td></tr><tr><td>precision</td><td>0.9543859649122807</td><td>0.9543859649122807</td><td>0.9543859649122807</td></tr><tr><td>recall</td><td>0.9473684210526315</td><td>0.9473684210526315</td><td>0.9473684210526315</td></tr></table><h3>custom_dict</h3><table><tr><th></th><th>Run 1</th><th>Run 2</th><th>Run 3</th></tr><tr><td>avg_pred_value</td><td>1.0789473684210527</td><td>1.0789473684210527</td><td>1.0789473684210527</td></tr></table><h3>Artifacts</h3><h3>confusion_matrix</h3><h4>Run 1</h4><img src=\"data:image/png;base64,iVBORw0KGgoAAAANSUhEUgAAAhIAAAHHCAYAAADqJrG+AAAAOXRFWHRTb2Z0d2FyZQBNYXRwbG90bGliIHZlcnNpb24zLjcuMSwgaHR0cHM6Ly9tYXRwbG90bGliLm9yZy/bCgiHAAAACXBIWXMAAA9hAAAPYQGoP6dpAAA0X0lEQVR4nO3deXQUZdbH8V8nJE0IIYSQhERWAQHZBQYBZRFGjQhEZmTELYAL++qCcWSJCy2MCoNsgrKIgDgikReEkUEgIovIJgMaRRAXZAmrBOhAut4/HFrbBEyarlRSfD+cOsd+qrrqdk7P5Obe56lyGIZhCAAAwA9BVgcAAACKLxIJAADgNxIJAADgNxIJAADgNxIJAADgNxIJAADgNxIJAADgNxIJAADgNxIJAADgNxIJoAhwOBwaPXq01WFc0ty5c1W7dm2FhISobNmyVocDoAghkQBwWV9++aV69Oih6tWra8aMGZo+fbrVIeVy4MABjR49Wtu3b7c6FOCqU8LqAAAUbWvWrJHH49E///lP1ahRw+pw8nTgwAGlpqaqatWqatSokdXhAFcVKhJAHrKysqwOocg4fPiwJAW0pXHmzJmAnQuAtUgkcNUbPXq0HA6Hdu/erXvvvVdRUVG66aab9Pnnn6tHjx669tprVbJkSVWoUEG9evXS0aNH83z/nj171KNHD5UtW1aRkZHq2bNnrl+YbrdbQ4cOVUxMjCIiItS5c2f98MMPeca1bds2JSYmqkyZMipdurTat2+vjRs3+hwze/ZsORwOrVu3ToMGDVJMTIzKli2r3r17Kzs7WydOnNCDDz6oqKgoRUVF6cknn1RBHvhbtWpVjRo1SpIUExOTay7HlClTVLduXTmdTiUkJKh///46ceKEzznatm2revXqacuWLWrdurVKlSqlp59+2vvzGDVqlGrUqCGn06lKlSrpySeflNvt9jnHypUrddNNN6ls2bIqXbq0atWq5T3HmjVr1KxZM0lSz5495XA45HA4NHv27Hx/TgD+o7UB/M/dd9+tmjVrasyYMTIMQytXrtTevXvVs2dPVahQQbt27dL06dO1a9cubdy4UQ6Hw+f93bp1U7Vq1eRyubR161a9/vrrio2N1dixY73HPPzww3rrrbd07733qmXLlvroo4/UsWPHXLHs2rVLN998s8qUKaMnn3xSISEheu2119S2bVutXbtWzZs39zl+4MCBqlChglJTU7Vx40ZNnz5dZcuW1fr161W5cmWNGTNGH3zwgf7xj3+oXr16evDBB/P1M5kwYYLefPNNLV68WFOnTlXp0qXVoEEDSb8kUKmpqerQoYP69u2rjIwMTZ06VZs3b9Ynn3yikJAQ73mOHj2qxMRE3XPPPbr//vsVFxcnj8ejzp07a926dXr00UdVp04d7dy5U+PHj9dXX32ltLQ078/izjvvVIMGDfTss8/K6XRqz549+uSTTyRJderU0bPPPquRI0fq0Ucf1c033yxJatmyZb4+I4ArZABXuVGjRhmSjO7du/uMnzlzJtexCxYsMCQZ6enpud7fq1cvn2PvuusuIzo62vt6+/bthiSjX79+Psfde++9hiRj1KhR3rGkpCQjNDTU+Oabb7xjBw4cMCIiIozWrVt7x2bNmmVIMm677TbD4/F4x1u0aGE4HA6jT58+3rELFy4YFStWNNq0afMHPxFfFz/fkSNHvGOHDx82QkNDjVtvvdXIycnxjk+aNMmQZMycOdM71qZNG0OSMW3aNJ/zzp071wgKCjI+/vhjn/Fp06YZkoxPPvnEMAzDGD9+fK7r/97mzZsNScasWbMK9NkAXDlaG8D/9OnTx+d1WFiY97/PnTunzMxM3XjjjZKkrVu3/uH7b775Zh09elSnTp2SJH3wwQeSpEGDBvkcN2TIEJ/XOTk5+vDDD5WUlKRrr73WOx4fH697771X69at857zooceesinQtK8eXMZhqGHHnrIOxYcHKymTZtq7969ef8ACuA///mPsrOzNWTIEAUF/fp/I4888ojKlCmjZcuW+RzvdDrVs2dPn7F//etfqlOnjmrXrq3MzEzvdsstt0iSVq9eLenXuRnvv/++PB7PFccOILBIJID/qVatms/rY8eOafDgwYqLi1NYWJhiYmK8x5w8eTLX+ytXruzzOioqSpJ0/PhxSdL+/fsVFBSk6tWr+xxXq1Ytn9dHjhzRmTNnco1Lv5TxPR6Pvv/++8teOzIyUpJUqVKlXOMX47kS+/fvzzP20NBQXXvttd79F11zzTUKDQ31Gfv666+1a9cuxcTE+GzXXXedpF8nef7tb39Tq1at9PDDDysuLk733HOP3nnnHZIKoIhgjgTwP7+tQEi/zHlYv369nnjiCTVq1EilS5eWx+PR7bffnucvseDg4DzPaxRgcqO/LnXtvMYLI57f+/3PVpI8Ho/q16+vV155Jc/3XEyCwsLClJ6ertWrV2vZsmVasWKFFi5cqFtuuUUffvjhJT87gMJBIgHk4fjx41q1apVSU1M1cuRI7/jXX3/t9zmrVKkij8ejb775xucv+YyMDJ/jYmJiVKpUqVzj0i83hwoKCspVaShsVapUkfRL7L9tv2RnZ2vfvn3q0KHDH56jevXq2rFjh9q3b59r4urvBQUFqX379mrfvr1eeeUVjRkzRn//+9+1evVqdejQ4Q/fD8A8tDaAPFz8K/f3f71PmDDB73MmJiZKkiZOnHjZcwYHB+vWW2/V+++/r2+//dY7fujQIc2fP1833XSTypQp43ccgdChQweFhoZq4sSJPj+jN954QydPnsxzJcrvdevWTT/++KNmzJiRa9/Zs2e99/I4duxYrv0Xbzp1cZloeHi4JOVaegrAfFQkgDyUKVNGrVu31rhx43T+/Hldc801+vDDD7Vv3z6/z9moUSN1795dU6ZM0cmTJ9WyZUutWrVKe/bsyXXs888/7713Qr9+/VSiRAm99tprcrvdGjdu3JV8tICIiYlRSkqKUlNTdfvtt6tz587KyMjQlClT1KxZM91///1/eI4HHnhA77zzjvr06aPVq1erVatWysnJ0Zdffql33nlH//73v9W0aVM9++yzSk9PV8eOHVWlShUdPnxYU6ZMUcWKFXXTTTdJ+qW6UbZsWU2bNk0REREKDw9X8+bNc817ARB4JBLAJcyfP18DBw7U5MmTZRiGbr31Vi1fvlwJCQl+n3PmzJmKiYnRvHnzlJaWpltuuUXLli3L1aqoW7euPv74Y6WkpMjlcsnj8ah58+Z66623ct1DwiqjR49WTEyMJk2apKFDh6pcuXJ69NFHNWbMGJ97SFxKUFCQ0tLSNH78eO+9KkqVKqVrr71WgwcP9k667Ny5s7799lvNnDlTmZmZKl++vNq0aaPU1FTvpNKQkBDNmTNHKSkp6tOnjy5cuKBZs2aRSACFwGFYMfMKAADYAnMkAACA32htAFepY8eOKTs7+5L7g4ODFRMTU4gRASiOaG0AV6mLz+24lCpVqvisGgGAvJBIAFepLVu2XPYul2FhYWrVqlUhRgSgOCKRAAAAfmOyJQAA8BuJBAAA8JstV22E/Xms1SGgiDm+fLjVIQAookoWwm/CsMYDAnKes9smBeQ8gURFAgAA+M2WFQkAAIoUh33/bieRAADAbDZ+1D2JBAAAZrNxRcK+nwwAAJiOigQAAGajtQEAAPxGawMAACA3KhIAAJiN1gYAAPAbrQ0AAIDcqEgAAGA2WhsAAMBvtDYAAAByoyIBAIDZaG0AAAC/2bi1QSIBAIDZbFyRsG+KBAAATEdFAgAAs9HaAAAAfrNxImHfTwYAAExHRQIAALMF2XeyJYkEAABmo7UBAACKm/T0dHXq1EkJCQlyOBxKS0vz7jt//ryGDx+u+vXrKzw8XAkJCXrwwQd14MCBAl2DRAIAALM5HIHZCigrK0sNGzbU5MmTc+07c+aMtm7dqhEjRmjr1q167733lJGRoc6dOxfoGrQ2AAAwm0WtjcTERCUmJua5LzIyUitXrvQZmzRpkv70pz/pu+++U+XKlfN1DSoSAABAknTy5Ek5HA6VLVs23++hIgEAgNkCdItst9stt9vtM+Z0OuV0Oq/43OfOndPw4cPVvXt3lSlTJt/voyIBAIDZHEEB2VwulyIjI302l8t1xeGdP39e3bp1k2EYmjp1aoHeS0UCAACzBagikZKSomHDhvmMXWk14mISsX//fn300UcFqkZIJBIAABQbgWpjXHQxifj666+1evVqRUdHF/gcJBIAAJjNolUbp0+f1p49e7yv9+3bp+3bt6tcuXKKj4/XX//6V23dulVLly5VTk6ODh48KEkqV66cQkND83UNEgkAAMwWoNZGQX322Wdq166d9/XFtkhycrJGjx6tJUuWSJIaNWrk877Vq1erbdu2+boGiQQAADbVtm1bGYZxyf2X25dfJBIAAJjNxs/aIJEAAMBsFrU2CoN9UyQAAGA6KhIAAJiN1gYAAPCbjRMJ+34yAABgOioSAACYzcaTLUkkAAAwm41bGyQSAACYzcYVCfumSAAAwHRUJAAAMButDQAA4DdaGwAAALlRkQAAwGQOG1ckSCQAADCZnRMJWhsAAMBvVCQAADCbfQsSJBIAAJiN1gYAAEAeqEgAAGAyO1ckSCQAADCZnRMJWhvFXKv6FfXus3/R3rf76ezK4erUsqZ3X4ngID3/cBttnt5LmUuGau/b/fT6kx0VH13awohhhbfnz1Pin29Rs8b1dd89d2vn559bHRIsxPeh8DkcjoBsRRGJRDEXXjJUO/ce1pBXV+baV8pZQo1qVNCLb61Xi35zdE9qmq6rWE7/erarBZHCKiuWf6CXxrnUu19/vf2vxapVq7b69n5IR48etTo0WIDvAwKNRKKY+3DzXqXO/lhLPvk6175TZ7J151MLtSj9S339wzF9+sUBDZ20Uk2ui1elmAgLooUV5s6Zpa5/7aaku/6i6jVq6JlRqSpZsqTS3ltkdWiwAN8HizgCtBVBls6RyMzM1MyZM7VhwwYdPHhQklShQgW1bNlSPXr0UExMjJXh2VKZcKc8HkMnstxWh4JCcD47W1/s3qWHHuntHQsKCtKNN7bU5zu2WRgZrMD3wTpFtS0RCJZVJDZv3qzrrrtOEydOVGRkpFq3bq3WrVsrMjJSEydOVO3atfXZZ59ZFZ4tOUOC9fzDbfXO6t36+Uy21eGgEBw/cVw5OTmKjo72GY+OjlZmZqZFUcEqfB9gBssqEgMHDtTdd9+tadOm5crUDMNQnz59NHDgQG3YsOGy53G73XK7ff+6NjwX5AhiQcpvlQgO0lsjusjhkAZN/NDqcADgqkJFwgQ7duzQ0KFD8/zhOhwODR06VNu3b//D87hcLkVGRvpsF/atNiHi4qtEcJDmPdNFlWMjdefwhVQjriJRZaMUHBycayLd0aNHVb58eYuiglX4PliHVRsmqFChgj799NNL7v/0008VFxf3h+dJSUnRyZMnfbYS1doFMtRi7WISUf2aKHUc/raO/XzO6pBQiEJCQ1Xn+rratPHXyp7H49GmTRvUoGFjCyODFfg+wAyW1f8ff/xxPfroo9qyZYvat2/vTRoOHTqkVatWacaMGXrppZf+8DxOp1NOp9Nn7Gpqa4SXDFH1a6K8r6tWiFSD6rE6fuqsfjqWpfkjk9S4Rpy6jnhXwUFBiosKlyQd+/mszl/wWBU2CtEDyT014unhqlu3nurVb6C35s7R2bNnlXQXy4CvRnwfrFFUqwmBYNlv3P79+6t8+fIaP368pkyZopycHElScHCwmjRpotmzZ6tbt25WhVds3HBdBX348r3e1+P6tpckzf1wp55/c533BlWfvtbL5323PjZfH3/+feEFCsvcnniHjh87pimTJioz84hq1a6jKa+9rmhK2Vclvg8WsW8eIYdhGIbVQZw/f947Y7h8+fIKCQm5ovOF/XlsIMKCjRxfPtzqEAAUUSUL4U/q6OQFATnP0TndA3KeQCoSPYCQkBDFx8dbHQYAAKagtQEAAPxGIgEAAPxm50SCZ20AAAC/UZEAAMBs9i1IkEgAAGA2WhsAAAB5oCIBAIDJ7FyRIJEAAMBkdk4kaG0AAAC/UZEAAMBkdq5IkEgAAGA2++YRtDYAAID/qEgAAGAyO7c2qEgAAGAyh8MRkK2g0tPT1alTJyUkJMjhcCgtLc1nv2EYGjlypOLj4xUWFqYOHTro66+/LtA1SCQAADCZVYlEVlaWGjZsqMmTJ+e5f9y4cZo4caKmTZumTZs2KTw8XLfddpvOnTuX72vQ2gAAwKYSExOVmJiY5z7DMDRhwgQ988wz6tKliyTpzTffVFxcnNLS0nTPPffk6xpUJAAAMJsjMJvb7dapU6d8Nrfb7VdI+/bt08GDB9WhQwfvWGRkpJo3b64NGzbk+zwkEgAAmCxQrQ2Xy6XIyEifzeVy+RXTwYMHJUlxcXE+43Fxcd59+UFrAwCAYiIlJUXDhg3zGXM6nRZF8wsSCQAATBao5Z9OpzNgiUOFChUkSYcOHVJ8fLx3/NChQ2rUqFG+z0NrAwAAk1m1auNyqlWrpgoVKmjVqlXesVOnTmnTpk1q0aJFvs9DRQIAAJs6ffq09uzZ4329b98+bd++XeXKlVPlypU1ZMgQPf/886pZs6aqVaumESNGKCEhQUlJSfm+BokEAAAms+rOlp999pnatWvnfX1xfkVycrJmz56tJ598UllZWXr00Ud14sQJ3XTTTVqxYoVKliyZ72s4DMMwAh65xcL+PNbqEFDEHF8+3OoQABRRJQvhT+pqQ5cF5Dz7xncMyHkCiTkSAADAb7Q2AAAwmZ0f2kUiAQCAyUgkAACA32ycRzBHAgAA+I+KBAAAJqO1AQAA/GbjPILWBgAA8B8VCQAATEZrAwAA+M3GeQStDQAA4D8qEgAAmCwoyL4lCRIJAABMRmsDAAAgD1QkAAAwGas2AACA32ycR5BIAABgNjtXJJgjAQAA/EZFAgAAk9m5IkEiAQCAyWycR9DaAAAA/qMiAQCAyWhtAAAAv9k4j6C1AQAA/EdFAgAAk9HaAAAAfrNxHkFrAwAA+I+KBAAAJqO1AQAA/GbjPIJEAgAAs9m5IsEcCQAA4DdbViSOLx9udQgoYuIemGt1CChCNo//i9UhoAi5rkIp069h44KEPRMJAACKElobAAAAeaAiAQCAyWxckCCRAADAbLQ2AAAA8kBFAgAAk9m4IEEiAQCA2WhtAAAA5IGKBAAAJrNzRYJEAgAAk9k4jyCRAADAbHauSDBHAgAA+I2KBAAAJrNxQYJEAgAAs9HaAAAAxUpOTo5GjBihatWqKSwsTNWrV9dzzz0nwzACeh0qEgAAmMyKgsTYsWM1depUzZkzR3Xr1tVnn32mnj17KjIyUoMGDQrYdUgkAAAwWZAFmcT69evVpUsXdezYUZJUtWpVLViwQJ9++mlAr0NrAwCAYsLtduvUqVM+m9vtzvPYli1batWqVfrqq68kSTt27NC6deuUmJgY0JhIJAAAMJnDEZjN5XIpMjLSZ3O5XHle86mnntI999yj2rVrKyQkRI0bN9aQIUN03333BfSz0doAAMBkgVq1kZKSomHDhvmMOZ3OPI995513NG/ePM2fP19169bV9u3bNWTIECUkJCg5OTkg8UgkEgAAmC4oQFMknE7nJROH33viiSe8VQlJql+/vvbv3y+XyxXQRILWBgAANnTmzBkFBfn+mg8ODpbH4wnodahIAABgMituSNWpUye98MILqly5surWratt27bplVdeUa9evQJ6HRIJAABMZsV9JF599VWNGDFC/fr10+HDh5WQkKDevXtr5MiRAb0OiQQAADYUERGhCRMmaMKECaZeh0QCAACTOWTfZ22QSAAAYLJArdooili1AQAA/EZFAgAAk9n5MeIkEgAAmMzGeQStDQAA4D8qEgAAmMyKx4gXFhIJAABMZuM8gkQCAACz2XmyJXMkAACA36hIAABgMhsXJEgkAAAwm50nW9LaAAAAfqMiAQCAyexbjyCRAADAdKzaAAAAyAMVCQAATGbnx4jnK5FYsmRJvk/YuXNnv4MBAMCO7NzayFcikZSUlK+TORwO5eTkXEk8AACgGMlXIuHxeMyOAwAA27JxQYI5EgAAmO2qb238XlZWltauXavvvvtO2dnZPvsGDRoUkMAAALCLq36y5W9t27ZNd9xxh86cOaOsrCyVK1dOmZmZKlWqlGJjY0kkAAC4ihT4PhJDhw5Vp06ddPz4cYWFhWnjxo3av3+/mjRpopdeesmMGAEAKNYcDkdAtqKowInE9u3b9dhjjykoKEjBwcFyu92qVKmSxo0bp6efftqMGAEAKNYcAdqKogInEiEhIQoK+uVtsbGx+u677yRJkZGR+v777wMbHQAAKNIKPEeicePG2rx5s2rWrKk2bdpo5MiRyszM1Ny5c1WvXj0zYgQAoFjjMeK/MWbMGMXHx0uSXnjhBUVFRalv3746cuSIpk+fHvAAAQAo7hyOwGxFUYErEk2bNvX+d2xsrFasWBHQgAAAQPHBDakAADBZUV1xEQgFTiSqVat22R/I3r17ryggBMbb8+dpzqw3lJl5RNfVqq2nnh6h+g0aWB0WTNaydqwG3VlXja4tp/ioUrr35TVa9tmvk6A7NaukXh2uU6Nq0SoX4dRNTy3Vzv3HLYwYhe1fb72h9ekf6cfvvlWo06na9RqqR+/Bqli5qtWh2ZqN84iCJxJDhgzxeX3+/Hlt27ZNK1as0BNPPBGouHAFViz/QC+Nc+mZUamqX7+h5s2do769H9L7S1coOjra6vBgolLOEvrvd8f11po9mvdY2zz3b8g4rMUb9+vVR1sUfoCw3H93bFXHu/6mmrXrypNzQW/OmKSRj/fVlDnvqWRYmNXhoRgqcCIxePDgPMcnT56szz777IoDwpWbO2eWuv61m5Lu+osk6ZlRqUpPX6O09xbpoUcetTg6mOk/Ow7oPzsOXHL/wnX7JEmVy4cXVkgoYlL/Mdnn9ZCUVN3fpb32fLVb9Ro2sSgq+2PVRj4kJiZq0aJFgTod/HQ+O1tf7N6lG1u09I4FBQXpxhtb6vMd2yyMDEBRlHX6tCQpIiLS4kjsjVUb+fDuu++qXLlygTod/HT8xHHl5OTkamFER0dr3z7mrwD4lcfj0YxJL6lO/Uaqcm0Nq8OxNSZb/kbjxo19fiCGYejgwYM6cuSIpkyZEtDgvv/+e40aNUozZ8685DFut1tut9tnzAh2yul0BjQWALCbaeNd+m7fHo19dZbVoaAYK3Ai0aVLF59EIigoSDExMWrbtq1q164d0OCOHTumOXPmXDaRcLlcSk1N9Rn7+4hRembk6IDGUlxElY1ScHCwjh496jN+9OhRlS9f3qKoABQ10ya8qM0bPpbr1TdUPjbO6nBsL2DzCIqgAicSo0ePDtjFlyxZctn9+VlKmpKSomHDhvmMGcFXbzUiJDRUda6vq00bN+iW9h0k/VK+3LRpg+7pfr/F0QGwmmEYeu2fY7Xh44/k+ucMVYi/xuqQrgq0Nn4jODhYP/30k2JjY33Gjx49qtjYWOXk5OT7XElJSXI4HDIM45LH/NEP3+nM3cY4dyHfIdjSA8k9NeLp4apbt57q1W+gt+bO0dmzZ5V0V1erQ4PJwp0ldG2FCO/rKjGlVb9KlI6fduuHo2cUFR6qiuXDVSHql2V+NePLSJIOnTirwyfPWRIzCtfU8S6lr1quv78wXmFh4Tp+NFOSVKp0aTmdJS2ODsVRgROJS/3Sd7vdCg0NLdC54uPjNWXKFHXp0iXP/du3b1eTJixHKqjbE+/Q8WPHNGXSRGVmHlGt2nU05bXXFU1rw/YaXxutZSNv9b52PfjLLe3nrf1G/aatV2KTiprat5V3/6zBrX857t0denHR54UbLCyx/P1/SZKeHvyIz/jgp1LVIbGzFSFdFYLsW5DIfyIxceJESb9UCF5//XWVLl3auy8nJ0fp6ekFniPRpEkTbdmy5ZKJxB9VK3Bp3e+7X93vo5VxtVn3xSFFdp97yf3z0/dqfjqrd65m/7eWZeBWIJGQNH78eEm/VCSmTZum4OBg777Q0FBVrVpV06ZNK9DFn3jiCWVlZV1yf40aNbR69eoCnRMAABSefCcS+/b9cke8du3a6b333lNUVNQVX/zmm2++7P7w8HC1adPmiq8DAICVmGz5G1QIAAAoGDu3Ngq8tPUvf/mLxo4dm2t83LhxuvvuuwMSFAAAKB4KnEikp6frjjvuyDWemJio9PT0gAQFAICd2PlZGwVOJE6fPp3nMs+QkBCdOnUqIEEBAGAnQQ5HQLaC+vHHH3X//fcrOjpaYWFhql+/fsCf1F3gRKJ+/fpauHBhrvG3335b119/fUCCAgDAToICtBXE8ePH1apVK4WEhGj58uXavXu3Xn755YAslvitAk+2HDFihLp27apvvvlGt9xyiyRp1apVmj9/vt59992ABgcAAPwzduxYVapUSbNm/fpQtmrVqgX8OgWuSHTq1ElpaWnas2eP+vXrp8cee0w//vijPvroI9WowWNoAQD4vUDNkXC73Tp16pTP9vsnYF+0ZMkSNW3aVHfffbdiY2PVuHFjzZgxI+Cfza8HknXs2FGffPKJsrKytHfvXnXr1k2PP/64GjZsGOj4AAAo9gI1R8LlcikyMtJnc7lceV5z7969mjp1qmrWrKl///vf6tu3rwYNGqQ5c+YE9LMVuLVxUXp6ut544w0tWrRICQkJ6tq1qyZPnhzI2AAAwG/k9cTr3z+48iKPx6OmTZtqzJgxkqTGjRvrv//9r6ZNm6bk5OSAxVSgROLgwYOaPXu23njjDZ06dUrdunWT2+1WWloaEy0BALiEQC3dzOuJ15cSHx+f63dznTp1tGjRosAE8z/5bm106tRJtWrV0ueff64JEybowIEDevXVVwMaDAAAdhTkCMxWEK1atVJGRobP2FdffaUqVaoE8JMVoCKxfPlyDRo0SH379lXNmjUDGgQAAAisoUOHqmXLlhozZoy6deumTz/9VNOnT9f06dMDep18VyTWrVunn3/+WU2aNFHz5s01adIkZWZmBjQYAADsyIobUjVr1kyLFy/WggULVK9ePT333HOaMGGC7rvvvsB+tvweeOONN2rGjBn66aef1Lt3b7399ttKSEiQx+PRypUr9fPPPwc0MAAA7MKqW2Tfeeed2rlzp86dO6cvvvhCjzzySMA/W4GXf4aHh6tXr15at26ddu7cqccee0wvvviiYmNj1blz54AHCAAAii6/7iNxUa1atTRu3Dj98MMPWrBgQaBiAgDAVqyYbFlY/L6PxG8FBwcrKSlJSUlJgTgdAAC24lARzQICICCJBAAAuLSiWk0IhCtqbQAAgKsbFQkAAExm54oEiQQAACZzBOoe2UUQrQ0AAOA3KhIAAJiM1gYAAPCbjTsbtDYAAID/qEgAAGCygj5wqzghkQAAwGR2niNBawMAAPiNigQAACazcWeDRAIAALMF8dAuAADgLztXJJgjAQAA/EZFAgAAk9l51QaJBAAAJrPzfSRobQAAAL9RkQAAwGQ2LkiQSAAAYDZaGwAAAHmgIgEAgMlsXJAgkQAAwGx2Lv/b+bMBAACTUZEAAMBkDhv3NkgkAAAwmX3TCBIJAABMx/JPAACAPFCRAADAZPatR5BIAABgOht3NmhtAAAA/1GRAADAZCz/BAAAfrNz+d/Onw0AAJiMigQAACajtQEAAPxm3zSC1gYAALgCVCQAADAZrQ2gmDs09wGrQ0AREtVsgNUhoAg5u22S6dewc/mfRAIAAJPZuSJh5yQJAACYjIoEAAAms289gkQCAADT2bizQWsDAICrwYsvviiHw6EhQ4YE9LxUJAAAMFmQxc2NzZs367XXXlODBg0Cfm4qEgAAmMzhCMzmj9OnT+u+++7TjBkzFBUVFdgPJhIJAACKDbfbrVOnTvlsbrf7su/p37+/OnbsqA4dOpgSE4kEAAAmcwTon8vlUmRkpM/mcrkued23335bW7duvewxV4o5EgAAmCxQqzZSUlI0bNgwnzGn05nnsd9//70GDx6slStXqmTJkoEJIA8kEgAAFBNOp/OSicPvbdmyRYcPH9YNN9zgHcvJyVF6eromTZokt9ut4ODgK46JRAIAAJNZsWqjffv22rlzp89Yz549Vbt2bQ0fPjwgSYREIgEAgOmsuCFVRESE6tWr5zMWHh6u6OjoXONXgkQCAACT2fnOliQSAABcJdasWRPwc5JIAABgMoeNH9tFIgEAgMmC7JtHcEMqAADgPyoSAACYjNYGAADwm51XbdDaAAAAfqMiAQCAyWhtAAAAv7FqAwAAIA9UJAAAMBmtDQAA4Dc7r9ogkQAAwGQ2ziOYIwEAAPxHRQIAAJMF2bi3QSIBAIDJ7JtG0NoAAABXgIoEAABms3FJgkQCAACT2fk+ErQ2AACA36hIAABgMhsv2iCRAADAbDbOI2htAAAA/1GRAADAbDYuSZBIAABgMjuv2iCRAADAZHaebMkcCQAA4DcqEgAAmMzGBQkSCQAATGfjTILWBgAA8BsVCQAATMaqDQAA4DdWbQAAAOSBigQAACazcUGCRAIAANPZOJOgtQEAAPxGRQIAAJOxagMAAPjNzqs2SCQAADCZjfMI5kgAAAD/kUjY1Nvz5ynxz7eoWeP6uu+eu7Xz88+tDgkW4vtw9Wp1Q3W9O6G39n74gs5um6RObRv47P977zu0/b1nlLn+ZR1YO07Lpg1Qs3pVLIrWxhwB2oogEgkbWrH8A700zqXe/frr7X8tVq1atdW390M6evSo1aHBAnwfrm7hYU7t/OpHDXEtzHP/nv2HNXTsv9T07jFq3/MV7T9wTP83ZYDKR5Uu5EjtzRGgf0URiYQNzZ0zS13/2k1Jd/1F1WvU0DOjUlWyZEmlvbfI6tBgAb4PV7cPP9mt1ClLtWR13lWohSs+0+pNGfr2x6P6Yu9BDX/5PUVGhKlezYRCjhTFFYmEzZzPztYXu3fpxhYtvWNBQUG68caW+nzHNgsjgxX4PqAgQkoE66GurXTi5zPa+dWPVodjKw5HYLaiiFUbNnP8xHHl5OQoOjraZzw6Olr79u21KCpYhe8D8iPx5np688WeKlUyRAczT+nOPpN09ESW1WHZShHNAQLC8orE2bNntW7dOu3evTvXvnPnzunNN9+87PvdbrdOnTrls7ndbrPCBQDbWbv5KzW/x6V2PV7Rh+t3661xvRTDHAnkk6WJxFdffaU6deqodevWql+/vtq0aaOffvrJu//kyZPq2bPnZc/hcrkUGRnps/1jrMvs0IusqLJRCg4OzjWR7ujRoypfvrxFUcEqfB+QH2fOZWvv95n6dOe36ps6XxdyPEq+q+UfvxH5x6oNcwwfPlz16tXT4cOHlZGRoYiICLVq1Urfffddvs+RkpKikydP+mxPDE8xMeqiLSQ0VHWur6tNGzd4xzwejzZt2qAGDRtbGBmswPcB/ghyOOQMofMdSFas2nC5XGrWrJkiIiIUGxurpKQkZWRkBPyzWfpNWb9+vf7zn/+ofPnyKl++vP7v//5P/fr1080336zVq1crPDz8D8/hdDrldDp9xs5dMCvi4uGB5J4a8fRw1a1bT/XqN9Bbc+fo7NmzSrqrq9WhwQJ8H65u4WGhql4pxvu66jXRanDdNTp+6oyOnsjS8Idv07K1O3Uw86Siy5ZW726tlRBbVu+t3Gph1AiEtWvXqn///mrWrJkuXLigp59+Wrfeeqt2796dr9+v+WVpInH27FmVKPFrCA6HQ1OnTtWAAQPUpk0bzZ8/38Loiq/bE+/Q8WPHNGXSRGVmHlGt2nU05bXXFU0p+6rE9+HqdsP1VfTh64O9r8c9/hdJ0twlGzXwhbdVq2qc7u/UXNFlw3Xs5Bl9tmu/OvQary/2HrQqZFuyYsXFihUrfF7Pnj1bsbGx2rJli1q3bh2w6zgMwzACdrYC+tOf/qSBAwfqgQceyLVvwIABmjdvnk6dOqWcnJwCnfdqr0gAuLyoZgOsDgFFyNltk0y/xlcHzwTkPFWignMtKMirMp+XPXv2qGbNmtq5c6fq1asXkHgki+dI3HXXXVqwYEGe+yZNmqTu3bvLwjwHAIDACNBky7wWGLhcf7zAwOPxaMiQIWrVqlVAkwjJ4oqEWahIALgcKhL4rUKpSBwKUEWirH8Vib59+2r58uVat26dKlasGJBYLmJaLgAAJgvUczLy28b4rQEDBmjp0qVKT08PeBIhkUgAAGA6KyZbGoahgQMHavHixVqzZo2qVatmynVIJAAAsKH+/ftr/vz5ev/99xUREaGDB39ZiRMZGamwsLCAXcfyW2QDAGB3VtzYcurUqTp58qTatm2r+Ph477ZwYd6PlPcXFQkAAMxmUWujMFCRAAAAfqMiAQCAyQK1aqMoIpEAAMBkVqzaKCy0NgAAgN+oSAAAYDIbFyRIJAAAMJ2NMwkSCQAATGbnyZbMkQAAAH6jIgEAgMnsvGqDRAIAAJPZOI+gtQEAAPxHRQIAAJPR2gAAAFfAvpkErQ0AAOA3KhIAAJiM1gYAAPCbjfMIWhsAAMB/VCQAADAZrQ0AAOA3Oz9rg0QCAACz2TePYI4EAADwHxUJAABMZuOCBIkEAABms/NkS1obAADAb1QkAAAwGas2AACA/+ybR9DaAAAA/qMiAQCAyWxckCCRAADAbKzaAAAAyAMVCQAATMaqDQAA4DdaGwAAAHkgkQAAAH6jtQEAgMns3NogkQAAwGR2nmxJawMAAPiNigQAACajtQEAAPxm4zyC1gYAAPAfFQkAAMxm45IEiQQAACZj1QYAAEAeqEgAAGAyVm0AAAC/2TiPoLUBAIDpHAHa/DB58mRVrVpVJUuWVPPmzfXpp59e0Uf5PRIJAABsauHChRo2bJhGjRqlrVu3qmHDhrrtttt0+PDhgF2DRAIAAJM5AvSvoF555RU98sgj6tmzp66//npNmzZNpUqV0syZMwP22UgkAAAwmcMRmK0gsrOztWXLFnXo0ME7FhQUpA4dOmjDhg0B+2xMtgQAoJhwu91yu90+Y06nU06nM9exmZmZysnJUVxcnM94XFycvvzyy4DFZMtEoqQtP1XBuN1uuVwupaSk5PkFw9WH78Svzm6bZHUIluP7ULgC9Xtp9PMupaam+oyNGjVKo0ePDswF/OAwDMOw7OowzalTpxQZGamTJ0+qTJkyVoeDIoDvBH6L70PxVJCKRHZ2tkqVKqV3331XSUlJ3vHk5GSdOHFC77//fkBiYo4EAADFhNPpVJkyZXy2S1WUQkND1aRJE61atco75vF4tGrVKrVo0SJgMdEEAADApoYNG6bk5GQ1bdpUf/rTnzRhwgRlZWWpZ8+eAbsGiQQAADb1t7/9TUeOHNHIkSN18OBBNWrUSCtWrMg1AfNKkEjYlNPp1KhRo5hEBS++E/gtvg9XjwEDBmjAgAGmnZ/JlgAAwG9MtgQAAH4jkQAAAH4jkQAAAH4jkQAAAH4jkbAps58/j+IjPT1dnTp1UkJCghwOh9LS0qwOCRZyuVxq1qyZIiIiFBsbq6SkJGVkZFgdFooxEgkbKoznz6P4yMrKUsOGDTV58mSrQ0ERsHbtWvXv318bN27UypUrdf78ed16663KysqyOjQUUyz/tKHmzZurWbNmmjTplwcTeTweVapUSQMHDtRTTz1lcXSwksPh0OLFi33uu4+r25EjRxQbG6u1a9eqdevWVoeDYoiKhM0U1vPnAdjDyZMnJUnlypWzOBIUVyQSNnO5588fPHjQoqgAFEUej0dDhgxRq1atVK9ePavDQTHFLbIB4CrVv39//fe//9W6deusDgXFGImEzZQvX17BwcE6dOiQz/ihQ4dUoUIFi6ICUNQMGDBAS5cuVXp6uipWrGh1OCjGaG3YTGE9fx5A8WQYhgYMGKDFixfro48+UrVq1awOCcUcFQkbKoznz6P4OH36tPbs2eN9vW/fPm3fvl3lypVT5cqVLYwMVujfv7/mz5+v999/XxEREd65U5GRkQoLC7M4OhRHLP+0qUmTJukf//iH9/nzEydOVPPmza0OCxZYs2aN2rVrl2s8OTlZs2fPLvyAYCmHw5Hn+KxZs9SjR4/CDQa2QCIBAAD8xhwJAADgNxIJAADgNxIJAADgNxIJAADgNxIJAADgNxIJAADgNxIJAADgNxIJwIZ69OihpKQk7+u2bdtqyJAhhR7HmjVr5HA4dOLEiUK/NoDCQSIBFKIePXrI4XDI4XAoNDRUNWrU0LPPPqsLFy6Yet333ntPzz33XL6O5Zc/gILgWRtAIbv99ts1a9Ysud1uffDBB+rfv79CQkKUkpLic1x2drZCQ0MDcs1y5coF5DwA8HtUJIBC5nQ6VaFCBVWpUkV9+/ZVhw4dtGTJEm874oUXXlBCQoJq1aolSfr+++/VrVs3lS1bVuXKlVOXLl307bffes+Xk5OjYcOGqWzZsoqOjtaTTz6p39/5/vetDbfbreHDh6tSpUpyOp2qUaOG3njjDX377bfe53JERUXJ4XB4n7/g8XjkcrlUrVo1hYWFqWHDhnr33Xd9rvPBBx/ouuuuU1hYmNq1a+cTJwB7IpEALBYWFqbs7GxJ0qpVq5SRkaGVK1dq6dKlOn/+vG677TZFRETo448/1ieffKLSpUvr9ttv977n5Zdf1uzZszVz5kytW7dOx44d0+LFiy97zQcffFALFizQxIkT9cUXX+i1115T6dKlValSJS1atEiSlJGRoZ9++kn//Oc/JUkul0tvvvmmpk2bpl27dmno0KG6//77tXbtWkm/JDxdu3ZVp06dtH37dj388MN66qmnzPqxASgqDACFJjk52ejSpYthGIbh8XiMlStXGk6n03j88ceN5ORkIy4uznC73d7j586da9SqVcvweDzeMbfbbYSFhRn//ve/DcMwjPj4eGPcuHHe/efPnzcqVqzovY5hGEabNm2MwYMHG4ZhGBkZGYYkY+XKlXnGuHr1akOScfz4ce/YuXPnjFKlShnr16/3Ofahhx4yunfvbhiGYaSkpBjXX3+9z/7hw4fnOhcAe2GOBFDIli5dqtKlS+v8+fPyeDy69957NXr0aPXv31/169f3mRexY8cO7dmzRxERET7nOHfunL755hudPHlSP/30k88j4kuUKKGmTZvmam9ctH37dgUHB6tNmzb5jnnPnj06c+aM/vznP/uMZ2dnq3HjxpKkL774Itej6lu0aJHvawAonkgkgELWrl07TZ06VaGhoUpISFCJEr/+zzA8PNzn2NOnT6tJkyaaN29ervPExMT4df2wsLACv+f06dOSpGXLlumaa67x2ed0Ov2KA4A9kEgAhSw8PFw1atTI17E33HCDFi5cqNjYWJUpUybPY+Lj47Vp0ya1bt1aknThwgVt2bJFN9xwQ57H169fXx6PR2vXrlWHDh1y7b9YEcnJyfGOXX/99XI6nfruu+8uWcmoU6eOlixZ4jO2cePGP/6QAIo1JlsCRdh9992n8uXLq0uXLvr444+1b98+rVmzRoMGDdIPP/wgSRo8eLBefPFFpaWl6csvv1S/fv0uew+IqlWrKjk5Wb169VJaWpr3nO+8844kqUqVKnI4HFq6dKmOHDmi06dPKyIiQo8//riGDh2qOXPm6JtvvtHWrVv16quvas6cOZKkPn366Ouvv9YTTzyhjIwMzZ8/X7Nnzzb7RwTAYiQSQBFWqlQppaenq3Llyuratavq1Kmjhx56SOfOnfNWKB577DE98MADSk5OVosWLRQREaG77rrrsuedOnWq/vrXv6pfv36qXbu2HnnkEWVlZUmSrrnmGqWmpuqpp55SXFycBgwYIEl67rnnNGLECLlcLtWpU0e33367li1bpmrVqkmSKleurEWLFiktLU0NGzbUtGnTNGbMGBN/OgCKAodxqRlZAAAAf4CKBAAA8BuJBAAA8BuJBAAA8BuJBAAA8BuJBAAA8BuJBAAA8BuJBAAA8BuJBAAA8BuJBAAA8BuJBAAA8BuJBAAA8BuJBAAA8Nv/A2bZvRv2Nff7AAAAAElFTkSuQmCC\"><h4>Run 2</h4><img src=\"data:image/png;base64,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\"><h4>Run 3</h4><img src=\"data:image/png;base64,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\"><h3>model</h3><h4>Run 1</h4><pre><code>Filename: model.pickle\n",
       "Size: 130.6 KiB</pre></code><h4>Run 2</h4><pre><code>Filename: model.pickle\n",
       "Size: 291.8 KiB</pre></code><h4>Run 3</h4><pre><code>Filename: model.pickle\n",
       "Size: 1.8 KiB</pre></code></body></html>"
      ],
      "text/plain": [
       "<IPython.core.display.HTML object>"
      ]
     },
     "metadata": {},
     "output_type": "display_data"
    }
   ],
   "source": [
    "display(HTML(erm.compare_runs(er_rf, er_gbt, er_dt)))"
   ]
  }
 ],
 "metadata": {
  "kernelspec": {
   "display_name": "Python 3 (ipykernel)",
   "language": "python",
   "name": "python3"
  },
  "language_info": {
   "codemirror_mode": {
    "name": "ipython",
    "version": 3
   },
   "file_extension": ".py",
   "mimetype": "text/x-python",
   "name": "python",
   "nbconvert_exporter": "python",
   "pygments_lexer": "ipython3",
   "version": "3.9.15"
  }
 },
 "nbformat": 4,
 "nbformat_minor": 4
}
