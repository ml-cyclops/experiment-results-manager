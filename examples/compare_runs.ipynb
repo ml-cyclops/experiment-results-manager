{
 "cells": [
  {
   "cell_type": "code",
   "execution_count": 1,
   "metadata": {},
   "outputs": [
    {
     "name": "stdout",
     "output_type": "stream",
     "text": [
      "Note: you may need to restart the kernel to use updated packages.\n"
     ]
    }
   ],
   "source": [
    "%pip install -qU experiment-results-manager \\\n",
    "    s3fs \\\n",
    "    gcsfs \\\n",
    "    seaborn scikit-learn"
   ]
  },
  {
   "cell_type": "code",
   "execution_count": 2,
   "metadata": {},
   "outputs": [],
   "source": [
    "import pandas as pd\n",
    "import experiment_results_manager as erm\n",
    "import pickle\n",
    "\n",
    "from experiment_results_manager.artifact import ArtifactType\n",
    "from sklearn.ensemble import RandomForestClassifier, GradientBoostingClassifier\n",
    "from sklearn.tree import DecisionTreeClassifier\n",
    "from sklearn.model_selection import train_test_split\n",
    "from sklearn.metrics import accuracy_score, precision_score, recall_score, f1_score\n",
    "from sklearn.datasets import load_iris\n",
    "from IPython.display import display, HTML"
   ]
  },
  {
   "cell_type": "code",
   "execution_count": 3,
   "metadata": {},
   "outputs": [
    {
     "data": {
      "text/html": [
       "<div>\n",
       "<style scoped>\n",
       "    .dataframe tbody tr th:only-of-type {\n",
       "        vertical-align: middle;\n",
       "    }\n",
       "\n",
       "    .dataframe tbody tr th {\n",
       "        vertical-align: top;\n",
       "    }\n",
       "\n",
       "    .dataframe thead th {\n",
       "        text-align: right;\n",
       "    }\n",
       "</style>\n",
       "<table border=\"1\" class=\"dataframe\">\n",
       "  <thead>\n",
       "    <tr style=\"text-align: right;\">\n",
       "      <th></th>\n",
       "      <th>sepal length (cm)</th>\n",
       "      <th>sepal width (cm)</th>\n",
       "      <th>petal length (cm)</th>\n",
       "      <th>petal width (cm)</th>\n",
       "      <th>target</th>\n",
       "    </tr>\n",
       "  </thead>\n",
       "  <tbody>\n",
       "    <tr>\n",
       "      <th>0</th>\n",
       "      <td>5.1</td>\n",
       "      <td>3.5</td>\n",
       "      <td>1.4</td>\n",
       "      <td>0.2</td>\n",
       "      <td>0</td>\n",
       "    </tr>\n",
       "    <tr>\n",
       "      <th>1</th>\n",
       "      <td>4.9</td>\n",
       "      <td>3.0</td>\n",
       "      <td>1.4</td>\n",
       "      <td>0.2</td>\n",
       "      <td>0</td>\n",
       "    </tr>\n",
       "    <tr>\n",
       "      <th>2</th>\n",
       "      <td>4.7</td>\n",
       "      <td>3.2</td>\n",
       "      <td>1.3</td>\n",
       "      <td>0.2</td>\n",
       "      <td>0</td>\n",
       "    </tr>\n",
       "    <tr>\n",
       "      <th>3</th>\n",
       "      <td>4.6</td>\n",
       "      <td>3.1</td>\n",
       "      <td>1.5</td>\n",
       "      <td>0.2</td>\n",
       "      <td>0</td>\n",
       "    </tr>\n",
       "    <tr>\n",
       "      <th>4</th>\n",
       "      <td>5.0</td>\n",
       "      <td>3.6</td>\n",
       "      <td>1.4</td>\n",
       "      <td>0.2</td>\n",
       "      <td>0</td>\n",
       "    </tr>\n",
       "    <tr>\n",
       "      <th>...</th>\n",
       "      <td>...</td>\n",
       "      <td>...</td>\n",
       "      <td>...</td>\n",
       "      <td>...</td>\n",
       "      <td>...</td>\n",
       "    </tr>\n",
       "    <tr>\n",
       "      <th>145</th>\n",
       "      <td>6.7</td>\n",
       "      <td>3.0</td>\n",
       "      <td>5.2</td>\n",
       "      <td>2.3</td>\n",
       "      <td>2</td>\n",
       "    </tr>\n",
       "    <tr>\n",
       "      <th>146</th>\n",
       "      <td>6.3</td>\n",
       "      <td>2.5</td>\n",
       "      <td>5.0</td>\n",
       "      <td>1.9</td>\n",
       "      <td>2</td>\n",
       "    </tr>\n",
       "    <tr>\n",
       "      <th>147</th>\n",
       "      <td>6.5</td>\n",
       "      <td>3.0</td>\n",
       "      <td>5.2</td>\n",
       "      <td>2.0</td>\n",
       "      <td>2</td>\n",
       "    </tr>\n",
       "    <tr>\n",
       "      <th>148</th>\n",
       "      <td>6.2</td>\n",
       "      <td>3.4</td>\n",
       "      <td>5.4</td>\n",
       "      <td>2.3</td>\n",
       "      <td>2</td>\n",
       "    </tr>\n",
       "    <tr>\n",
       "      <th>149</th>\n",
       "      <td>5.9</td>\n",
       "      <td>3.0</td>\n",
       "      <td>5.1</td>\n",
       "      <td>1.8</td>\n",
       "      <td>2</td>\n",
       "    </tr>\n",
       "  </tbody>\n",
       "</table>\n",
       "<p>150 rows × 5 columns</p>\n",
       "</div>"
      ],
      "text/plain": [
       "     sepal length (cm)  sepal width (cm)  petal length (cm)  petal width (cm)   \n",
       "0                  5.1               3.5                1.4               0.2  \\\n",
       "1                  4.9               3.0                1.4               0.2   \n",
       "2                  4.7               3.2                1.3               0.2   \n",
       "3                  4.6               3.1                1.5               0.2   \n",
       "4                  5.0               3.6                1.4               0.2   \n",
       "..                 ...               ...                ...               ...   \n",
       "145                6.7               3.0                5.2               2.3   \n",
       "146                6.3               2.5                5.0               1.9   \n",
       "147                6.5               3.0                5.2               2.0   \n",
       "148                6.2               3.4                5.4               2.3   \n",
       "149                5.9               3.0                5.1               1.8   \n",
       "\n",
       "     target  \n",
       "0         0  \n",
       "1         0  \n",
       "2         0  \n",
       "3         0  \n",
       "4         0  \n",
       "..      ...  \n",
       "145       2  \n",
       "146       2  \n",
       "147       2  \n",
       "148       2  \n",
       "149       2  \n",
       "\n",
       "[150 rows x 5 columns]"
      ]
     },
     "execution_count": 3,
     "metadata": {},
     "output_type": "execute_result"
    }
   ],
   "source": [
    "iris = load_iris()\n",
    "feature_names = iris.feature_names\n",
    "iris_df = pd.DataFrame(iris.data, columns=feature_names)\n",
    "iris_df['target'] = iris.target\n",
    "iris_df"
   ]
  },
  {
   "cell_type": "code",
   "execution_count": 4,
   "metadata": {},
   "outputs": [],
   "source": [
    "# Train test split\n",
    "X_train, X_test, y_train, y_test = train_test_split(\n",
    "    iris_df.drop('target', axis=1), \n",
    "    iris_df['target'],\n",
    ")\n",
    "\n",
    "# Let's try some different classifiers\n",
    "rf = RandomForestClassifier(random_state=666)\n",
    "rf.fit(X_train, y_train)\n",
    "rf_pred = rf.predict(X_test)\n",
    "\n",
    "gbt = GradientBoostingClassifier(random_state=666)\n",
    "gbt.fit(X_train, y_train)\n",
    "gbt_pred = gbt.predict(X_test)\n",
    "\n",
    "dt = DecisionTreeClassifier(max_depth = 3, random_state = 1)\n",
    "dt.fit(X_train, y_train)\n",
    "dt_pred = dt.predict(X_test)"
   ]
  },
  {
   "cell_type": "code",
   "execution_count": 5,
   "metadata": {},
   "outputs": [
    {
     "data": {
      "text/plain": [
       "<Figure size 640x480 with 0 Axes>"
      ]
     },
     "metadata": {},
     "output_type": "display_data"
    }
   ],
   "source": [
    "from matplotlib import pyplot as plt\n",
    "from numpy import mean\n",
    "from sklearn.metrics import confusion_matrix\n",
    "import seaborn as sns\n",
    "\n",
    "def evaluate_and_log_run(model, y_test, y_pred, variant_id):\n",
    "    er = erm.ExperimentRun(\n",
    "        experiment_id=\"iris\",\n",
    "        variant_id=variant_id,\n",
    "        params={\n",
    "            \"model\": type(model).__name__\n",
    "        },\n",
    "        metrics={\n",
    "            \"accuracy\": accuracy_score(y_test, y_pred),\n",
    "            \"precision\": precision_score(y_test, y_pred, average='weighted'),\n",
    "            \"recall\": recall_score(y_test, y_pred, average='weighted'),\n",
    "            \"f1\": f1_score(y_test, y_pred, average='weighted')\n",
    "        }\n",
    "    )\n",
    "\n",
    "    er.log_dict(\"custom_dict\", data={\n",
    "        \"avg_pred_value\": mean(y_pred)\n",
    "    })\n",
    "\n",
    "    er.log_artifact(\n",
    "        pickle.dumps(model), \n",
    "        artifact_id=\"model\", \n",
    "        filename=\"model.pickle\", \n",
    "        artifact_type=ArtifactType.BINARY)\n",
    "    \n",
    "    plt.clf()\n",
    "    fig = sns.heatmap(\n",
    "        confusion_matrix(y_test, dt_pred), \n",
    "        annot=True, \n",
    "        cmap=\"Blues\"\n",
    "    )\n",
    "    fig.set_xlabel('Predicted')\n",
    "    fig.set_ylabel('Actual')\n",
    "    fig.set_title(variant_id)\n",
    "    er.log_figure(fig, \"confusion_matrix\")\n",
    "    \n",
    "    return er\n",
    "\n",
    "er_rf = evaluate_and_log_run(rf, y_test, rf_pred, \"random_forest\")\n",
    "er_gbt = evaluate_and_log_run(gbt, y_test, gbt_pred, \"gradient_boosting\")\n",
    "er_dt = evaluate_and_log_run(dt, y_test, dt_pred, \"decision_tree\")\n",
    "plt.clf()"
   ]
  },
  {
   "cell_type": "code",
   "execution_count": 6,
   "metadata": {
    "tags": []
   },
   "outputs": [
    {
     "data": {
      "text/html": [
       "<html><body><table><tr><th></th><th>Experiment id</th><th>Variant id</th><th>Run id</th><th>Timestamp (UTC)</th></tr><tr><td>Run 1</td><td>iris</td><td>random_forest</td><td>2023_04_21__19_48_34</td><td>2023-04-21 19:48:34.376078</td></tr><tr><td>Run 2</td><td>iris</td><td>gradient_boosting</td><td>2023_04_21__19_48_34</td><td>2023-04-21 19:48:34.473292</td></tr><tr><td>Run 3</td><td>iris</td><td>decision_tree</td><td>2023_04_21__19_48_34</td><td>2023-04-21 19:48:34.575660</td></tr></table><h3>Params</h3><table><tr><th></th><th>Run 1</th><th>Run 2</th><th>Run 3</th></tr><tr><td>model</td><td>RandomForestClassifier</td><td>GradientBoostingClassifier</td><td>DecisionTreeClassifier</td></tr></table><h3>Metrics</h3><table><tr><th></th><th>Run 1</th><th>Run 2</th><th>Run 3</th></tr><tr><td>accuracy</td><td>0.9473684210526315</td><td>0.9473684210526315</td><td>0.9473684210526315</td></tr><tr><td>f1</td><td>0.9472431077694236</td><td>0.9472431077694236</td><td>0.9472431077694236</td></tr><tr><td>precision</td><td>0.9539473684210527</td><td>0.9539473684210527</td><td>0.9539473684210527</td></tr><tr><td>recall</td><td>0.9473684210526315</td><td>0.9473684210526315</td><td>0.9473684210526315</td></tr></table><h3>custom_dict</h3><table><tr><th></th><th>Run 1</th><th>Run 2</th><th>Run 3</th></tr><tr><td>avg_pred_value</td><td>1.105263157894737</td><td>1.105263157894737</td><td>1.105263157894737</td></tr></table><h3>Artifacts</h3><h3>confusion_matrix</h3><h4>Run 1</h4><img src=\"data:image/png;base64,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\"><h4>Run 2</h4><img src=\"data:image/png;base64,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\"><h4>Run 3</h4><img src=\"data:image/png;base64,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\"><h3>model</h3><h4>Run 1</h4><pre><code>Filename: model.pickle\n",
       "Size: 134.0 KiB</pre></code><h4>Run 2</h4><pre><code>Filename: model.pickle\n",
       "Size: 302.6 KiB</pre></code><h4>Run 3</h4><pre><code>Filename: model.pickle\n",
       "Size: 1.9 KiB</pre></code></body></html>"
      ],
      "text/plain": [
       "<IPython.core.display.HTML object>"
      ]
     },
     "metadata": {},
     "output_type": "display_data"
    }
   ],
   "source": [
    "display(HTML(erm.compare_runs(er_rf, er_gbt, er_dt)))"
   ]
  }
 ],
 "metadata": {
  "kernelspec": {
   "display_name": "Python 3 (ipykernel)",
   "language": "python",
   "name": "python3"
  },
  "language_info": {
   "codemirror_mode": {
    "name": "ipython",
    "version": 3
   },
   "file_extension": ".py",
   "mimetype": "text/x-python",
   "name": "python",
   "nbconvert_exporter": "python",
   "pygments_lexer": "ipython3",
   "version": "3.9.15"
  }
 },
 "nbformat": 4,
 "nbformat_minor": 4
}
